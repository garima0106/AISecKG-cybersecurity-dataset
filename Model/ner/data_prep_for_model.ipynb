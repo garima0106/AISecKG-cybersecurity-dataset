{
 "cells": [
  {
   "cell_type": "code",
   "execution_count": 1,
   "id": "69521dcc-886b-4d4a-91dd-9f7f3e2b0909",
   "metadata": {},
   "outputs": [],
   "source": [
    "import pandas as pd\n",
    "import csv\n",
    "import os\n",
    "import numpy as np\n",
    "import nltk\n",
    "import re"
   ]
  },
  {
   "cell_type": "code",
   "execution_count": 2,
   "id": "bf6dcd28-c644-4b1c-85cc-280740df17ba",
   "metadata": {},
   "outputs": [],
   "source": [
    "data = pd.read_csv( 'splitdata_final.csv').fillna(\"\")"
   ]
  },
  {
   "cell_type": "code",
   "execution_count": 3,
   "id": "53f33181-df15-47a7-a133-252fec6e0af4",
   "metadata": {},
   "outputs": [
    {
     "data": {
      "text/html": [
       "<div>\n",
       "<style scoped>\n",
       "    .dataframe tbody tr th:only-of-type {\n",
       "        vertical-align: middle;\n",
       "    }\n",
       "\n",
       "    .dataframe tbody tr th {\n",
       "        vertical-align: top;\n",
       "    }\n",
       "\n",
       "    .dataframe thead th {\n",
       "        text-align: right;\n",
       "    }\n",
       "</style>\n",
       "<table border=\"1\" class=\"dataframe\">\n",
       "  <thead>\n",
       "    <tr style=\"text-align: right;\">\n",
       "      <th></th>\n",
       "      <th>DocNo</th>\n",
       "      <th>sentence</th>\n",
       "      <th>tag</th>\n",
       "    </tr>\n",
       "  </thead>\n",
       "  <tbody>\n",
       "    <tr>\n",
       "      <th>0</th>\n",
       "      <td>D1</td>\n",
       "      <td>Attacks</td>\n",
       "      <td>B-attack</td>\n",
       "    </tr>\n",
       "    <tr>\n",
       "      <th>1</th>\n",
       "      <td>D1</td>\n",
       "      <td>can</td>\n",
       "      <td>O</td>\n",
       "    </tr>\n",
       "    <tr>\n",
       "      <th>2</th>\n",
       "      <td>D1</td>\n",
       "      <td>damage</td>\n",
       "      <td>O</td>\n",
       "    </tr>\n",
       "    <tr>\n",
       "      <th>3</th>\n",
       "      <td>D1</td>\n",
       "      <td>public</td>\n",
       "      <td>B-system</td>\n",
       "    </tr>\n",
       "    <tr>\n",
       "      <th>4</th>\n",
       "      <td>D1</td>\n",
       "      <td>domain</td>\n",
       "      <td>I-system</td>\n",
       "    </tr>\n",
       "    <tr>\n",
       "      <th>5</th>\n",
       "      <td></td>\n",
       "      <td></td>\n",
       "      <td></td>\n",
       "    </tr>\n",
       "    <tr>\n",
       "      <th>6</th>\n",
       "      <td>D1</td>\n",
       "      <td>IDS</td>\n",
       "      <td>B-tool</td>\n",
       "    </tr>\n",
       "    <tr>\n",
       "      <th>7</th>\n",
       "      <td>D1</td>\n",
       "      <td>means</td>\n",
       "      <td>O</td>\n",
       "    </tr>\n",
       "    <tr>\n",
       "      <th>8</th>\n",
       "      <td>D1</td>\n",
       "      <td>Intrusion</td>\n",
       "      <td>B-technique</td>\n",
       "    </tr>\n",
       "    <tr>\n",
       "      <th>9</th>\n",
       "      <td>D1</td>\n",
       "      <td>Detection</td>\n",
       "      <td>I-technique</td>\n",
       "    </tr>\n",
       "    <tr>\n",
       "      <th>10</th>\n",
       "      <td></td>\n",
       "      <td></td>\n",
       "      <td></td>\n",
       "    </tr>\n",
       "    <tr>\n",
       "      <th>11</th>\n",
       "      <td>D1</td>\n",
       "      <td>Snort</td>\n",
       "      <td>B-tool</td>\n",
       "    </tr>\n",
       "    <tr>\n",
       "      <th>12</th>\n",
       "      <td>D1</td>\n",
       "      <td>is</td>\n",
       "      <td>O</td>\n",
       "    </tr>\n",
       "    <tr>\n",
       "      <th>13</th>\n",
       "      <td>D1</td>\n",
       "      <td>used</td>\n",
       "      <td>O</td>\n",
       "    </tr>\n",
       "    <tr>\n",
       "      <th>14</th>\n",
       "      <td>D1</td>\n",
       "      <td>for</td>\n",
       "      <td>O</td>\n",
       "    </tr>\n",
       "    <tr>\n",
       "      <th>15</th>\n",
       "      <td>D1</td>\n",
       "      <td>Intrusion</td>\n",
       "      <td>B-technique</td>\n",
       "    </tr>\n",
       "    <tr>\n",
       "      <th>16</th>\n",
       "      <td>D1</td>\n",
       "      <td>Detection</td>\n",
       "      <td>I-technique</td>\n",
       "    </tr>\n",
       "    <tr>\n",
       "      <th>17</th>\n",
       "      <td></td>\n",
       "      <td></td>\n",
       "      <td></td>\n",
       "    </tr>\n",
       "    <tr>\n",
       "      <th>18</th>\n",
       "      <td>D1</td>\n",
       "      <td>Snort</td>\n",
       "      <td>B-tool</td>\n",
       "    </tr>\n",
       "    <tr>\n",
       "      <th>19</th>\n",
       "      <td>D1</td>\n",
       "      <td>can</td>\n",
       "      <td>O</td>\n",
       "    </tr>\n",
       "  </tbody>\n",
       "</table>\n",
       "</div>"
      ],
      "text/plain": [
       "   DocNo   sentence          tag\n",
       "0     D1    Attacks     B-attack\n",
       "1     D1        can            O\n",
       "2     D1     damage            O\n",
       "3     D1     public     B-system\n",
       "4     D1     domain     I-system\n",
       "5                               \n",
       "6     D1        IDS       B-tool\n",
       "7     D1      means            O\n",
       "8     D1  Intrusion  B-technique\n",
       "9     D1  Detection  I-technique\n",
       "10                              \n",
       "11    D1      Snort       B-tool\n",
       "12    D1         is            O\n",
       "13    D1       used            O\n",
       "14    D1        for            O\n",
       "15    D1  Intrusion  B-technique\n",
       "16    D1  Detection  I-technique\n",
       "17                              \n",
       "18    D1      Snort       B-tool\n",
       "19    D1        can            O"
      ]
     },
     "execution_count": 3,
     "metadata": {},
     "output_type": "execute_result"
    }
   ],
   "source": [
    "data.head(20)"
   ]
  },
  {
   "cell_type": "code",
   "execution_count": 4,
   "id": "609c29f3-b00e-4af1-8d9a-92b2ab74f4ed",
   "metadata": {},
   "outputs": [
    {
     "data": {
      "text/plain": [
       "array(['B-attack', 'O', 'B-system', 'I-system', '', 'B-tool',\n",
       "       'B-technique', 'I-technique', 'I-attack', 'I-tool', 'B-data',\n",
       "       'B-feature', 'I-feature', 'B-function', 'I-function', 'I-data',\n",
       "       'B-vulnerability', 'I-vulnerability', 'B-app', 'B-securityTeam',\n",
       "       'I-securityTeam', 'B-attacker', 'I-attacker', 'B-user', 'I-app',\n",
       "       'I-user'], dtype=object)"
      ]
     },
     "execution_count": 4,
     "metadata": {},
     "output_type": "execute_result"
    }
   ],
   "source": [
    "data.tag.unique()"
   ]
  },
  {
   "cell_type": "code",
   "execution_count": 5,
   "id": "6c610f68-5b4e-49fc-a116-3a9545d572c7",
   "metadata": {},
   "outputs": [],
   "source": [
    "labels = sorted([a.upper() for a in ['B-attack', 'O', 'B-system', 'I-system', '', 'B-tool',\n",
    "       'B-technique', 'I-technique', 'I-attack', 'I-tool', 'B-data',\n",
    "       'B-feature', 'I-feature', 'B-function', 'I-function', 'I-data',\n",
    "       'B-vulnerability', 'I-vulnerability', 'B-app', 'B-securityTeam',\n",
    "       'I-securityTeam', 'B-attacker', 'I-attacker', 'B-user', 'I-app',\n",
    "       'I-user'] if a])"
   ]
  },
  {
   "cell_type": "code",
   "execution_count": 6,
   "id": "1ac48913-1e8c-421b-8b7d-cbdbb45413a7",
   "metadata": {},
   "outputs": [
    {
     "name": "stdout",
     "output_type": "stream",
     "text": [
      "B-APP\n",
      "B-ATTACK\n",
      "B-ATTACKER\n",
      "B-DATA\n",
      "B-FEATURE\n",
      "B-FUNCTION\n",
      "B-SECURITYTEAM\n",
      "B-SYSTEM\n",
      "B-TECHNIQUE\n",
      "B-TOOL\n",
      "B-USER\n",
      "B-VULNERABILITY\n",
      "I-APP\n",
      "I-ATTACK\n",
      "I-ATTACKER\n",
      "I-DATA\n",
      "I-FEATURE\n",
      "I-FUNCTION\n",
      "I-SECURITYTEAM\n",
      "I-SYSTEM\n",
      "I-TECHNIQUE\n",
      "I-TOOL\n",
      "I-USER\n",
      "I-VULNERABILITY\n",
      "O\n",
      "\n"
     ]
    }
   ],
   "source": [
    "s = \"\"\n",
    "for each in labels:\n",
    "    s += each+\"\\n\"\n",
    "print(s)"
   ]
  },
  {
   "cell_type": "code",
   "execution_count": 7,
   "id": "c3e99508-030f-41b3-9241-cc62712150a8",
   "metadata": {},
   "outputs": [
    {
     "data": {
      "text/plain": [
       "9558"
      ]
     },
     "execution_count": 7,
     "metadata": {},
     "output_type": "execute_result"
    }
   ],
   "source": [
    "len(data)"
   ]
  },
  {
   "cell_type": "code",
   "execution_count": 8,
   "id": "a1bfcd2a-326a-4490-8071-718e365346b4",
   "metadata": {},
   "outputs": [],
   "source": [
    "train = []\n",
    "test = []\n",
    "val = []\n",
    "hasseen = False\n",
    "isval = False\n",
    "for each in data.values.tolist():\n",
    "    if each[0] in [\"D4\",\"D5\"]:\n",
    "        hasseen = True\n",
    "    if each[0] in [\"D6\"]:\n",
    "        isval = True\n",
    "    # tags = each[-1][2:] if each[-1]!=\"O\" else \"O\"\n",
    "    if isval:\n",
    "        val.append([each[0],each[1],each[2].upper()])\n",
    "    elif hasseen:\n",
    "        test.append([each[0],each[1],each[2].upper()])\n",
    "    else:\n",
    "        train.append([each[0],each[1],each[2].upper()])\n",
    "        "
   ]
  },
  {
   "cell_type": "code",
   "execution_count": 9,
   "id": "92cfb38c-d071-40b4-867f-846af3e3197b",
   "metadata": {},
   "outputs": [
    {
     "data": {
      "text/plain": [
       "(5772, 3591, 195)"
      ]
     },
     "execution_count": 9,
     "metadata": {},
     "output_type": "execute_result"
    }
   ],
   "source": [
    "len(train), len(test), len(val)"
   ]
  },
  {
   "cell_type": "code",
   "execution_count": 93,
   "id": "2c1b4cb4-d1cf-44a4-accf-6090515a7c86",
   "metadata": {},
   "outputs": [],
   "source": [
    "train_pd = pd.DataFrame(train,columns=['DocNo','sentence','tag'])\n",
    "test_pd = pd.DataFrame(test,columns=['DocNo','sentence','tag'])\n",
    "val_pd = pd.DataFrame(val,columns=['DocNo','sentence','tag'])"
   ]
  },
  {
   "cell_type": "code",
   "execution_count": 94,
   "id": "1276e37c-a655-41f8-8c54-b6e3ed600167",
   "metadata": {},
   "outputs": [
    {
     "data": {
      "text/html": [
       "<div>\n",
       "<style scoped>\n",
       "    .dataframe tbody tr th:only-of-type {\n",
       "        vertical-align: middle;\n",
       "    }\n",
       "\n",
       "    .dataframe tbody tr th {\n",
       "        vertical-align: top;\n",
       "    }\n",
       "\n",
       "    .dataframe thead th {\n",
       "        text-align: right;\n",
       "    }\n",
       "</style>\n",
       "<table border=\"1\" class=\"dataframe\">\n",
       "  <thead>\n",
       "    <tr style=\"text-align: right;\">\n",
       "      <th></th>\n",
       "      <th>DocNo</th>\n",
       "      <th>sentence</th>\n",
       "      <th>tag</th>\n",
       "    </tr>\n",
       "  </thead>\n",
       "  <tbody>\n",
       "    <tr>\n",
       "      <th>0</th>\n",
       "      <td>D6</td>\n",
       "      <td>Now</td>\n",
       "      <td>O</td>\n",
       "    </tr>\n",
       "    <tr>\n",
       "      <th>1</th>\n",
       "      <td>D6</td>\n",
       "      <td>on</td>\n",
       "      <td>O</td>\n",
       "    </tr>\n",
       "    <tr>\n",
       "      <th>2</th>\n",
       "      <td>D6</td>\n",
       "      <td>the</td>\n",
       "      <td>O</td>\n",
       "    </tr>\n",
       "    <tr>\n",
       "      <th>3</th>\n",
       "      <td>D6</td>\n",
       "      <td>server</td>\n",
       "      <td>B-SYSTEM</td>\n",
       "    </tr>\n",
       "    <tr>\n",
       "      <th>4</th>\n",
       "      <td>D6</td>\n",
       "      <td>side</td>\n",
       "      <td>I-SYSTEM</td>\n",
       "    </tr>\n",
       "    <tr>\n",
       "      <th>5</th>\n",
       "      <td>D6</td>\n",
       "      <td>folder</td>\n",
       "      <td>B-DATA</td>\n",
       "    </tr>\n",
       "    <tr>\n",
       "      <th>6</th>\n",
       "      <td>D6</td>\n",
       "      <td>is</td>\n",
       "      <td>O</td>\n",
       "    </tr>\n",
       "    <tr>\n",
       "      <th>7</th>\n",
       "      <td>D6</td>\n",
       "      <td>created</td>\n",
       "      <td>O</td>\n",
       "    </tr>\n",
       "    <tr>\n",
       "      <th>8</th>\n",
       "      <td>D6</td>\n",
       "      <td>for</td>\n",
       "      <td>O</td>\n",
       "    </tr>\n",
       "    <tr>\n",
       "      <th>9</th>\n",
       "      <td>D6</td>\n",
       "      <td>the</td>\n",
       "      <td>O</td>\n",
       "    </tr>\n",
       "    <tr>\n",
       "      <th>10</th>\n",
       "      <td>D6</td>\n",
       "      <td>client</td>\n",
       "      <td>B-SYSTEM</td>\n",
       "    </tr>\n",
       "    <tr>\n",
       "      <th>11</th>\n",
       "      <td>D6</td>\n",
       "      <td>with</td>\n",
       "      <td>O</td>\n",
       "    </tr>\n",
       "    <tr>\n",
       "      <th>12</th>\n",
       "      <td>D6</td>\n",
       "      <td>the</td>\n",
       "      <td>O</td>\n",
       "    </tr>\n",
       "    <tr>\n",
       "      <th>13</th>\n",
       "      <td>D6</td>\n",
       "      <td>hostname</td>\n",
       "      <td>B-FEATURE</td>\n",
       "    </tr>\n",
       "    <tr>\n",
       "      <th>14</th>\n",
       "      <td>D6</td>\n",
       "      <td>ubuntu</td>\n",
       "      <td>B-SYSTEM</td>\n",
       "    </tr>\n",
       "    <tr>\n",
       "      <th>15</th>\n",
       "      <td></td>\n",
       "      <td></td>\n",
       "      <td></td>\n",
       "    </tr>\n",
       "    <tr>\n",
       "      <th>16</th>\n",
       "      <td>D6</td>\n",
       "      <td>You</td>\n",
       "      <td>O</td>\n",
       "    </tr>\n",
       "    <tr>\n",
       "      <th>17</th>\n",
       "      <td>D6</td>\n",
       "      <td>are</td>\n",
       "      <td>O</td>\n",
       "    </tr>\n",
       "    <tr>\n",
       "      <th>18</th>\n",
       "      <td>D6</td>\n",
       "      <td>successfully</td>\n",
       "      <td>O</td>\n",
       "    </tr>\n",
       "    <tr>\n",
       "      <th>19</th>\n",
       "      <td>D6</td>\n",
       "      <td>received</td>\n",
       "      <td>O</td>\n",
       "    </tr>\n",
       "  </tbody>\n",
       "</table>\n",
       "</div>"
      ],
      "text/plain": [
       "   DocNo      sentence        tag\n",
       "0     D6           Now          O\n",
       "1     D6            on          O\n",
       "2     D6           the          O\n",
       "3     D6        server   B-SYSTEM\n",
       "4     D6          side   I-SYSTEM\n",
       "5     D6        folder     B-DATA\n",
       "6     D6            is          O\n",
       "7     D6       created          O\n",
       "8     D6           for          O\n",
       "9     D6           the          O\n",
       "10    D6        client   B-SYSTEM\n",
       "11    D6          with          O\n",
       "12    D6           the          O\n",
       "13    D6      hostname  B-FEATURE\n",
       "14    D6        ubuntu   B-SYSTEM\n",
       "15                               \n",
       "16    D6           You          O\n",
       "17    D6           are          O\n",
       "18    D6  successfully          O\n",
       "19    D6      received          O"
      ]
     },
     "execution_count": 94,
     "metadata": {},
     "output_type": "execute_result"
    }
   ],
   "source": [
    "val_pd.head(20)"
   ]
  },
  {
   "cell_type": "code",
   "execution_count": 95,
   "id": "e981dc7f-6182-402e-b4e0-a9a02fb85d50",
   "metadata": {},
   "outputs": [
    {
     "data": {
      "text/plain": [
       "array(['D1', '', 'D2', 'D3'], dtype=object)"
      ]
     },
     "execution_count": 95,
     "metadata": {},
     "output_type": "execute_result"
    }
   ],
   "source": [
    "train_pd.DocNo.unique()"
   ]
  },
  {
   "cell_type": "code",
   "execution_count": 96,
   "id": "ca3e1e33-6d1f-493a-a28a-620951121822",
   "metadata": {},
   "outputs": [
    {
     "data": {
      "text/plain": [
       "array(['D4', '', 'D5'], dtype=object)"
      ]
     },
     "execution_count": 96,
     "metadata": {},
     "output_type": "execute_result"
    }
   ],
   "source": [
    "test_pd.DocNo.unique()\n",
    "# test_pd.tag.unique()"
   ]
  },
  {
   "cell_type": "code",
   "execution_count": 97,
   "id": "7a640f64-f29a-4baa-97fa-e242d94340e6",
   "metadata": {},
   "outputs": [
    {
     "data": {
      "text/html": [
       "<div>\n",
       "<style scoped>\n",
       "    .dataframe tbody tr th:only-of-type {\n",
       "        vertical-align: middle;\n",
       "    }\n",
       "\n",
       "    .dataframe tbody tr th {\n",
       "        vertical-align: top;\n",
       "    }\n",
       "\n",
       "    .dataframe thead th {\n",
       "        text-align: right;\n",
       "    }\n",
       "</style>\n",
       "<table border=\"1\" class=\"dataframe\">\n",
       "  <thead>\n",
       "    <tr style=\"text-align: right;\">\n",
       "      <th></th>\n",
       "      <th>DocNo</th>\n",
       "      <th>sentence</th>\n",
       "      <th>tag</th>\n",
       "    </tr>\n",
       "  </thead>\n",
       "  <tbody>\n",
       "    <tr>\n",
       "      <th>0</th>\n",
       "      <td>D4</td>\n",
       "      <td>you</td>\n",
       "      <td>O</td>\n",
       "    </tr>\n",
       "    <tr>\n",
       "      <th>1</th>\n",
       "      <td>D4</td>\n",
       "      <td>need</td>\n",
       "      <td>O</td>\n",
       "    </tr>\n",
       "    <tr>\n",
       "      <th>2</th>\n",
       "      <td>D4</td>\n",
       "      <td>to</td>\n",
       "      <td>O</td>\n",
       "    </tr>\n",
       "    <tr>\n",
       "      <th>3</th>\n",
       "      <td>D4</td>\n",
       "      <td>use</td>\n",
       "      <td>O</td>\n",
       "    </tr>\n",
       "    <tr>\n",
       "      <th>4</th>\n",
       "      <td>D4</td>\n",
       "      <td>Metasploit</td>\n",
       "      <td>B-TOOL</td>\n",
       "    </tr>\n",
       "  </tbody>\n",
       "</table>\n",
       "</div>"
      ],
      "text/plain": [
       "  DocNo    sentence     tag\n",
       "0    D4         you       O\n",
       "1    D4        need       O\n",
       "2    D4          to       O\n",
       "3    D4         use       O\n",
       "4    D4  Metasploit  B-TOOL"
      ]
     },
     "execution_count": 97,
     "metadata": {},
     "output_type": "execute_result"
    }
   ],
   "source": [
    "test_pd.head()"
   ]
  },
  {
   "cell_type": "code",
   "execution_count": 98,
   "id": "fcd509c3-78f4-4227-968d-48064af13a6a",
   "metadata": {},
   "outputs": [
    {
     "data": {
      "text/html": [
       "<div>\n",
       "<style scoped>\n",
       "    .dataframe tbody tr th:only-of-type {\n",
       "        vertical-align: middle;\n",
       "    }\n",
       "\n",
       "    .dataframe tbody tr th {\n",
       "        vertical-align: top;\n",
       "    }\n",
       "\n",
       "    .dataframe thead th {\n",
       "        text-align: right;\n",
       "    }\n",
       "</style>\n",
       "<table border=\"1\" class=\"dataframe\">\n",
       "  <thead>\n",
       "    <tr style=\"text-align: right;\">\n",
       "      <th></th>\n",
       "      <th>DocNo</th>\n",
       "      <th>sentence</th>\n",
       "      <th>tag</th>\n",
       "    </tr>\n",
       "  </thead>\n",
       "  <tbody>\n",
       "    <tr>\n",
       "      <th>0</th>\n",
       "      <td>D4</td>\n",
       "      <td>you</td>\n",
       "      <td>O</td>\n",
       "    </tr>\n",
       "    <tr>\n",
       "      <th>1</th>\n",
       "      <td>D4</td>\n",
       "      <td>need</td>\n",
       "      <td>O</td>\n",
       "    </tr>\n",
       "    <tr>\n",
       "      <th>2</th>\n",
       "      <td>D4</td>\n",
       "      <td>to</td>\n",
       "      <td>O</td>\n",
       "    </tr>\n",
       "    <tr>\n",
       "      <th>3</th>\n",
       "      <td>D4</td>\n",
       "      <td>use</td>\n",
       "      <td>O</td>\n",
       "    </tr>\n",
       "    <tr>\n",
       "      <th>4</th>\n",
       "      <td>D4</td>\n",
       "      <td>Metasploit</td>\n",
       "      <td>B-TOOL</td>\n",
       "    </tr>\n",
       "    <tr>\n",
       "      <th>...</th>\n",
       "      <td>...</td>\n",
       "      <td>...</td>\n",
       "      <td>...</td>\n",
       "    </tr>\n",
       "    <tr>\n",
       "      <th>3586</th>\n",
       "      <td>D5</td>\n",
       "      <td>errors</td>\n",
       "      <td>B-DATA</td>\n",
       "    </tr>\n",
       "    <tr>\n",
       "      <th>3587</th>\n",
       "      <td>D5</td>\n",
       "      <td>on</td>\n",
       "      <td>O</td>\n",
       "    </tr>\n",
       "    <tr>\n",
       "      <th>3588</th>\n",
       "      <td>D5</td>\n",
       "      <td>the</td>\n",
       "      <td>O</td>\n",
       "    </tr>\n",
       "    <tr>\n",
       "      <th>3589</th>\n",
       "      <td>D5</td>\n",
       "      <td>client-side</td>\n",
       "      <td>B-SYSTEM</td>\n",
       "    </tr>\n",
       "    <tr>\n",
       "      <th>3590</th>\n",
       "      <td></td>\n",
       "      <td></td>\n",
       "      <td></td>\n",
       "    </tr>\n",
       "  </tbody>\n",
       "</table>\n",
       "<p>3591 rows × 3 columns</p>\n",
       "</div>"
      ],
      "text/plain": [
       "     DocNo     sentence       tag\n",
       "0       D4          you         O\n",
       "1       D4         need         O\n",
       "2       D4           to         O\n",
       "3       D4          use         O\n",
       "4       D4   Metasploit    B-TOOL\n",
       "...    ...          ...       ...\n",
       "3586    D5       errors    B-DATA\n",
       "3587    D5           on         O\n",
       "3588    D5          the         O\n",
       "3589    D5  client-side  B-SYSTEM\n",
       "3590                             \n",
       "\n",
       "[3591 rows x 3 columns]"
      ]
     },
     "execution_count": 98,
     "metadata": {},
     "output_type": "execute_result"
    }
   ],
   "source": [
    "test_pd"
   ]
  },
  {
   "cell_type": "code",
   "execution_count": 99,
   "id": "a191d67c-e5fb-4d9f-9d58-e51de5bd0a0e",
   "metadata": {},
   "outputs": [],
   "source": [
    "train_pd.to_csv(\"train.csv\",header=True,index=False)"
   ]
  },
  {
   "cell_type": "code",
   "execution_count": 100,
   "id": "6e51b745-28ca-40fd-84f3-659c3c7a444e",
   "metadata": {},
   "outputs": [],
   "source": [
    "test_pd.to_csv(\"test.csv\",header=True,index=False)"
   ]
  },
  {
   "cell_type": "code",
   "execution_count": 101,
   "id": "f016005d-90f9-4249-8577-20ab68915bcd",
   "metadata": {},
   "outputs": [],
   "source": [
    "val_pd.to_csv(\"val.csv\",header=True,index=False)"
   ]
  },
  {
   "cell_type": "code",
   "execution_count": 112,
   "id": "4fbe32fb-88ed-41c9-afe5-8786c51a82b9",
   "metadata": {},
   "outputs": [],
   "source": [
    "def converttotext(data, mode):\n",
    "    count = 0\n",
    "    with open(mode+\".txt\",'w') as f:\n",
    "        for each in data.values.tolist():\n",
    "            # print(each)\n",
    "            if each[0]:\n",
    "                f.write(each[0]+\" \"+each[1]+\"\\n\")\n",
    "            else:\n",
    "                count += 1\n",
    "                f.write(\"\\n\")\n",
    "    print(count)\n",
    "        "
   ]
  },
  {
   "cell_type": "code",
   "execution_count": 113,
   "id": "ec6b16dd-c7c4-4a57-86cc-6b1f63bcb37c",
   "metadata": {},
   "outputs": [
    {
     "name": "stdout",
     "output_type": "stream",
     "text": [
      "372\n",
      "214\n",
      "13\n"
     ]
    }
   ],
   "source": [
    "converttotext(train_pd[['sentence','tag']],\"train\")\n",
    "converttotext(test_pd[['sentence','tag']],\"test\")\n",
    "converttotext(val_pd[['sentence','tag']],\"dev\")"
   ]
  },
  {
   "cell_type": "code",
   "execution_count": 102,
   "id": "ffba9e64-70c6-4402-ba69-46a66cb6e4a8",
   "metadata": {},
   "outputs": [],
   "source": [
    "train_pd[['sentence','tag']].to_csv(r'train.txt', header=None, index=None, sep=' ')\n",
    "val_pd[['sentence','tag']].to_csv(r'dev.txt', header=None, index=None, sep=' ')\n",
    "test_pd[['sentence','tag']].to_csv(r'test.txt', header=None, index=None, sep=' ')"
   ]
  },
  {
   "cell_type": "code",
   "execution_count": 87,
   "id": "daf93530-caf7-4a88-bc7b-75239bd6ab07",
   "metadata": {},
   "outputs": [
    {
     "data": {
      "text/plain": [
       "array(['B-ATTACK', 'O', 'B-SYSTEM', 'I-SYSTEM', '', 'B-TOOL',\n",
       "       'B-TECHNIQUE', 'I-TECHNIQUE', 'I-ATTACK', 'I-TOOL', 'B-DATA',\n",
       "       'B-FEATURE', 'I-FEATURE', 'B-FUNCTION', 'I-FUNCTION', 'I-DATA',\n",
       "       'B-VULNERABILITY', 'I-VULNERABILITY', 'B-APP', 'B-SECURITYTEAM',\n",
       "       'I-SECURITYTEAM', 'B-ATTACKER', 'I-ATTACKER', 'B-USER', 'I-APP'],\n",
       "      dtype=object)"
      ]
     },
     "execution_count": 87,
     "metadata": {},
     "output_type": "execute_result"
    }
   ],
   "source": [
    "train_pd.tag.unique()"
   ]
  },
  {
   "cell_type": "code",
   "execution_count": 88,
   "id": "bc8bbe3d-55f6-4024-b32a-e7493642f95d",
   "metadata": {},
   "outputs": [
    {
     "data": {
      "text/plain": [
       "array(['O', 'B-SYSTEM', 'I-SYSTEM', 'B-DATA', 'B-FEATURE', '', 'I-DATA',\n",
       "       'B-APP', 'I-APP', 'B-FUNCTION', 'B-TOOL', 'I-FUNCTION'],\n",
       "      dtype=object)"
      ]
     },
     "execution_count": 88,
     "metadata": {},
     "output_type": "execute_result"
    }
   ],
   "source": [
    "val_pd.tag.unique()"
   ]
  },
  {
   "cell_type": "code",
   "execution_count": 89,
   "id": "ac241352-a89a-423c-905c-9ee31b092033",
   "metadata": {},
   "outputs": [
    {
     "data": {
      "text/plain": [
       "91"
      ]
     },
     "execution_count": 89,
     "metadata": {},
     "output_type": "execute_result"
    }
   ],
   "source": [
    "len(['O', 'O', 'O', 'O', 'B-TOOL', 'B-FEATURE', 'B-TOOL', 'O', 'O', 'O', 'O', 'O', 'O', 'B-ATTACK', 'O', 'O', 'O', 'O', 'B-FEATURE', 'O', 'O', 'O', 'O', 'B-FEATURE', 'B-FEATURE', 'O', 'B-FEATURE', 'O', 'B-FEATURE', 'B-FEATURE', 'O', 'O', 'B-FEATURE', 'O', 'B-FEATURE', 'B-FEATURE', 'O', 'O', 'O', 'O', 'O', 'B-FEATURE', 'B-FEATURE', 'B-TOOL', 'B-FEATURE', 'O', 'O', 'B-TECHNIQUE', 'I-TECHNIQUE', 'O', 'O', 'O', 'O', 'O', 'O', 'B-TOOL', 'O', 'O', 'O', 'O', 'B-FEATURE', 'B-FEATURE', 'B-TOOL', 'O', 'B-TOOL', 'O', 'O', 'B-TOOL', 'B-FEATURE', 'O', 'B-FEATURE', 'B-TECHNIQUE', 'B-FEATURE', 'B-DATA', 'O', 'B-TECHNIQUE', 'I-TECHNIQUE', 'O', 'B-TOOL', 'B-FEATURE', 'O', 'O', 'O', 'B-ATTACK', 'B-FEATURE', 'B-TOOL', 'B-TOOL', 'O', 'B-TOOL', 'B-FEATURE', 'O'])"
   ]
  },
  {
   "cell_type": "code",
   "execution_count": 74,
   "id": "3c4baeb9-ed65-4cf6-94c6-d8a4fe0ed1f2",
   "metadata": {},
   "outputs": [
    {
     "data": {
      "text/plain": [
       "91"
      ]
     },
     "execution_count": 74,
     "metadata": {},
     "output_type": "execute_result"
    }
   ],
   "source": [
    "len(['O', 'O', 'O', 'O', 'B-TOOL', 'I-TOOL', 'I-TOOL', 'O', 'B-FUNCTION', 'O', 'O', 'O', 'O', 'B-ATTACK', 'O', 'O', 'O', 'O', 'B-APP', 'O', 'B-FEATURE', 'O', 'O', 'B-TOOL', 'I-TOOL', 'O', 'B-DATA', 'O', 'B-APP', 'B-FEATURE', 'B-TECHNIQUE', 'B-FEATURE', 'B-DATA', 'O', 'B-FEATURE', 'I-FEATURE', 'B-SYSTEM', 'O', 'O', 'O', 'O', 'B-TOOL', 'I-TOOL', 'I-TOOL', 'B-TOOL', 'I-TOOL', 'O', 'B-TECHNIQUE', 'I-TECHNIQUE', 'O', 'O', 'O', 'O', 'O', 'O', 'B-TOOL', 'O', 'B-TECHNIQUE', 'O', 'B-TECHNIQUE', 'B-VULNERABILITY', 'I-VULNERABILITY', 'O', 'O', 'B-SYSTEM', 'I-SYSTEM', 'O', 'B-TOOL', 'I-TOOL', 'O', 'O', 'B-VULNERABILITY', 'B-DATA', 'I-DATA', 'O', 'B-TECHNIQUE', 'I-TECHNIQUE', 'O', 'B-TOOL', 'I-TOOL', 'O', 'O', 'O', 'B-VULNERABILITY', 'B-SYSTEM', 'O', 'B-SYSTEM', 'O', 'B-TOOL', 'O', 'O'])"
   ]
  },
  {
   "cell_type": "code",
   "execution_count": null,
   "id": "a5f00df7-8260-46e4-aef0-a833f893e606",
   "metadata": {},
   "outputs": [],
   "source": []
  }
 ],
 "metadata": {
  "kernelspec": {
   "display_name": "Python 3 (ipykernel)",
   "language": "python",
   "name": "python3"
  },
  "language_info": {
   "codemirror_mode": {
    "name": "ipython",
    "version": 3
   },
   "file_extension": ".py",
   "mimetype": "text/x-python",
   "name": "python",
   "nbconvert_exporter": "python",
   "pygments_lexer": "ipython3",
   "version": "3.7.11"
  }
 },
 "nbformat": 4,
 "nbformat_minor": 5
}
