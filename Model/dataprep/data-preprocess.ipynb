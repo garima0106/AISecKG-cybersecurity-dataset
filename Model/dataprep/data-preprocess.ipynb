{
 "cells": [
  {
   "cell_type": "code",
   "execution_count": 1,
   "id": "0a51faf1",
   "metadata": {},
   "outputs": [],
   "source": [
    "import pandas as pd\n",
    "import csv\n",
    "import os\n",
    "import numpy as np\n",
    "import nltk\n",
    "import re"
   ]
  },
  {
   "cell_type": "code",
   "execution_count": 2,
   "id": "1d7aca70",
   "metadata": {},
   "outputs": [],
   "source": [
    "from nltk.tokenize import word_tokenize"
   ]
  },
  {
   "cell_type": "code",
   "execution_count": 3,
   "id": "bdf469ab",
   "metadata": {},
   "outputs": [
    {
     "data": {
      "text/plain": [
       "'/Users/garima/AISecKG-cybersecurity-dataset/Model/dataprep'"
      ]
     },
     "execution_count": 3,
     "metadata": {},
     "output_type": "execute_result"
    }
   ],
   "source": [
    "path=os.getcwd()\n",
    "path"
   ]
  },
  {
   "cell_type": "code",
   "execution_count": 4,
   "id": "e757114a",
   "metadata": {},
   "outputs": [],
   "source": [
    "annotatedata = pd.read_csv(path + '/annotated_data_BI.csv')"
   ]
  },
  {
   "cell_type": "code",
   "execution_count": 11,
   "id": "f380746d",
   "metadata": {},
   "outputs": [
    {
     "data": {
      "text/html": [
       "<div>\n",
       "<style scoped>\n",
       "    .dataframe tbody tr th:only-of-type {\n",
       "        vertical-align: middle;\n",
       "    }\n",
       "\n",
       "    .dataframe tbody tr th {\n",
       "        vertical-align: top;\n",
       "    }\n",
       "\n",
       "    .dataframe thead th {\n",
       "        text-align: right;\n",
       "    }\n",
       "</style>\n",
       "<table border=\"1\" class=\"dataframe\">\n",
       "  <thead>\n",
       "    <tr style=\"text-align: right;\">\n",
       "      <th></th>\n",
       "      <th>sentence</th>\n",
       "      <th>entity</th>\n",
       "    </tr>\n",
       "  </thead>\n",
       "  <tbody>\n",
       "    <tr>\n",
       "      <th>0</th>\n",
       "      <td>Attacks can damage public domain.</td>\n",
       "      <td>B-attack can damage B-system I-system.</td>\n",
       "    </tr>\n",
       "    <tr>\n",
       "      <th>1</th>\n",
       "      <td>IDS means Intrusion Detection</td>\n",
       "      <td>B-tool means B-technique I-technique</td>\n",
       "    </tr>\n",
       "    <tr>\n",
       "      <th>2</th>\n",
       "      <td>Snort is used for Intrusion Detection</td>\n",
       "      <td>B-tool is used for B-technique I-technique</td>\n",
       "    </tr>\n",
       "    <tr>\n",
       "      <th>3</th>\n",
       "      <td>Snort can detect network attacks.</td>\n",
       "      <td>B-tool can detect B-attack I-attack.</td>\n",
       "    </tr>\n",
       "    <tr>\n",
       "      <th>4</th>\n",
       "      <td>Snort can also be used as a simple packet logger.</td>\n",
       "      <td>B-tool can also be used as a simple B-tool I-t...</td>\n",
       "    </tr>\n",
       "  </tbody>\n",
       "</table>\n",
       "</div>"
      ],
      "text/plain": [
       "                                            sentence  \\\n",
       "0                  Attacks can damage public domain.   \n",
       "1                      IDS means Intrusion Detection   \n",
       "2              Snort is used for Intrusion Detection   \n",
       "3                  Snort can detect network attacks.   \n",
       "4  Snort can also be used as a simple packet logger.   \n",
       "\n",
       "                                              entity  \n",
       "0             B-attack can damage B-system I-system.  \n",
       "1               B-tool means B-technique I-technique  \n",
       "2         B-tool is used for B-technique I-technique  \n",
       "3               B-tool can detect B-attack I-attack.  \n",
       "4  B-tool can also be used as a simple B-tool I-t...  "
      ]
     },
     "execution_count": 11,
     "metadata": {},
     "output_type": "execute_result"
    }
   ],
   "source": [
    "annotatedata.head()"
   ]
  },
  {
   "cell_type": "code",
   "execution_count": 17,
   "id": "e27fb74b",
   "metadata": {},
   "outputs": [],
   "source": [
    "punc = '''!()-[]{};:'\"\\,<>./?@#$%^&*_~'''"
   ]
  },
  {
   "cell_type": "code",
   "execution_count": 18,
   "id": "945fe876",
   "metadata": {},
   "outputs": [],
   "source": [
    "for ele in annotatedata['sentence']:\n",
    "    if ele in punc:\n",
    "        annotatedata['sentence'] = annotatedata['sentence'].replace(ele, \"\")"
   ]
  },
  {
   "cell_type": "code",
   "execution_count": 167,
   "id": "f6280312",
   "metadata": {},
   "outputs": [],
   "source": [
    "regex1 = re.compile('B-')\n",
    "regex2 = re.compile('I-')"
   ]
  },
  {
   "cell_type": "code",
   "execution_count": 19,
   "id": "29e54ca0",
   "metadata": {},
   "outputs": [
    {
     "data": {
      "text/html": [
       "<div>\n",
       "<style scoped>\n",
       "    .dataframe tbody tr th:only-of-type {\n",
       "        vertical-align: middle;\n",
       "    }\n",
       "\n",
       "    .dataframe tbody tr th {\n",
       "        vertical-align: top;\n",
       "    }\n",
       "\n",
       "    .dataframe thead th {\n",
       "        text-align: right;\n",
       "    }\n",
       "</style>\n",
       "<table border=\"1\" class=\"dataframe\">\n",
       "  <thead>\n",
       "    <tr style=\"text-align: right;\">\n",
       "      <th></th>\n",
       "      <th>sentence</th>\n",
       "      <th>entity</th>\n",
       "    </tr>\n",
       "  </thead>\n",
       "  <tbody>\n",
       "    <tr>\n",
       "      <th>0</th>\n",
       "      <td>Attacks can damage public domain.</td>\n",
       "      <td>B-attack can damage B-system I-system.</td>\n",
       "    </tr>\n",
       "    <tr>\n",
       "      <th>1</th>\n",
       "      <td>IDS means Intrusion Detection</td>\n",
       "      <td>B-tool means B-technique I-technique</td>\n",
       "    </tr>\n",
       "    <tr>\n",
       "      <th>2</th>\n",
       "      <td>Snort is used for Intrusion Detection</td>\n",
       "      <td>B-tool is used for B-technique I-technique</td>\n",
       "    </tr>\n",
       "    <tr>\n",
       "      <th>3</th>\n",
       "      <td>Snort can detect network attacks.</td>\n",
       "      <td>B-tool can detect B-attack I-attack.</td>\n",
       "    </tr>\n",
       "    <tr>\n",
       "      <th>4</th>\n",
       "      <td>Snort can also be used as a simple packet logger.</td>\n",
       "      <td>B-tool can also be used as a simple B-tool I-t...</td>\n",
       "    </tr>\n",
       "  </tbody>\n",
       "</table>\n",
       "</div>"
      ],
      "text/plain": [
       "                                            sentence  \\\n",
       "0                  Attacks can damage public domain.   \n",
       "1                      IDS means Intrusion Detection   \n",
       "2              Snort is used for Intrusion Detection   \n",
       "3                  Snort can detect network attacks.   \n",
       "4  Snort can also be used as a simple packet logger.   \n",
       "\n",
       "                                              entity  \n",
       "0             B-attack can damage B-system I-system.  \n",
       "1               B-tool means B-technique I-technique  \n",
       "2         B-tool is used for B-technique I-technique  \n",
       "3               B-tool can detect B-attack I-attack.  \n",
       "4  B-tool can also be used as a simple B-tool I-t...  "
      ]
     },
     "execution_count": 19,
     "metadata": {},
     "output_type": "execute_result"
    }
   ],
   "source": [
    "annotatedata.head()"
   ]
  },
  {
   "cell_type": "code",
   "execution_count": 168,
   "id": "dfe3be54",
   "metadata": {},
   "outputs": [],
   "source": [
    "df2=pd.DataFrame(columns=['tag'])"
   ]
  },
  {
   "cell_type": "code",
   "execution_count": 169,
   "id": "b435b465",
   "metadata": {},
   "outputs": [],
   "source": [
    "for row in annotatedata['entity']:\n",
    "    for word in row.split():\n",
    "        res1 = regex1.search(word)\n",
    "        res2= regex2.search(word)\n",
    "        if res1==None and res2==None:\n",
    "            row=row.replace(word,'O')\n",
    "    #print(row)\n",
    "    df2 = df2.append(pd.DataFrame([row], columns=['tag']))"
   ]
  },
  {
   "cell_type": "code",
   "execution_count": 21,
   "id": "9dc2cebc",
   "metadata": {},
   "outputs": [],
   "source": [
    "df2.to_csv('annotated_BIO.csv')"
   ]
  },
  {
   "cell_type": "code",
   "execution_count": 15,
   "id": "929ed8d2",
   "metadata": {},
   "outputs": [],
   "source": [
    "df = pd.read_csv(path + '/annotated_BIO.csv')"
   ]
  },
  {
   "cell_type": "code",
   "execution_count": 16,
   "id": "827337a2",
   "metadata": {},
   "outputs": [
    {
     "data": {
      "text/html": [
       "<div>\n",
       "<style scoped>\n",
       "    .dataframe tbody tr th:only-of-type {\n",
       "        vertical-align: middle;\n",
       "    }\n",
       "\n",
       "    .dataframe tbody tr th {\n",
       "        vertical-align: top;\n",
       "    }\n",
       "\n",
       "    .dataframe thead th {\n",
       "        text-align: right;\n",
       "    }\n",
       "</style>\n",
       "<table border=\"1\" class=\"dataframe\">\n",
       "  <thead>\n",
       "    <tr style=\"text-align: right;\">\n",
       "      <th></th>\n",
       "      <th>DocNo</th>\n",
       "      <th>Sno</th>\n",
       "      <th>sentence</th>\n",
       "      <th>tag</th>\n",
       "    </tr>\n",
       "  </thead>\n",
       "  <tbody>\n",
       "    <tr>\n",
       "      <th>0</th>\n",
       "      <td>D1</td>\n",
       "      <td>1</td>\n",
       "      <td>Attacks can damage public domain</td>\n",
       "      <td>B-attack O O B-system I-system</td>\n",
       "    </tr>\n",
       "    <tr>\n",
       "      <th>1</th>\n",
       "      <td>D1</td>\n",
       "      <td>2</td>\n",
       "      <td>IDS means Intrusion Detection</td>\n",
       "      <td>B-tool O B-technique I-technique</td>\n",
       "    </tr>\n",
       "    <tr>\n",
       "      <th>2</th>\n",
       "      <td>D1</td>\n",
       "      <td>3</td>\n",
       "      <td>Snort is used for Intrusion Detection</td>\n",
       "      <td>B-tool O O O B-technique I-technique</td>\n",
       "    </tr>\n",
       "    <tr>\n",
       "      <th>3</th>\n",
       "      <td>D1</td>\n",
       "      <td>4</td>\n",
       "      <td>Snort can detect network attacks</td>\n",
       "      <td>B-tool O O B-attack I-attack</td>\n",
       "    </tr>\n",
       "    <tr>\n",
       "      <th>4</th>\n",
       "      <td>D1</td>\n",
       "      <td>5</td>\n",
       "      <td>Snort can also be used as a simple packet logger</td>\n",
       "      <td>B-tool O O O O O O O B-tool I-tool</td>\n",
       "    </tr>\n",
       "  </tbody>\n",
       "</table>\n",
       "</div>"
      ],
      "text/plain": [
       "  DocNo  Sno                                          sentence  \\\n",
       "0    D1    1                  Attacks can damage public domain   \n",
       "1    D1    2                     IDS means Intrusion Detection   \n",
       "2    D1    3             Snort is used for Intrusion Detection   \n",
       "3    D1    4                  Snort can detect network attacks   \n",
       "4    D1    5  Snort can also be used as a simple packet logger   \n",
       "\n",
       "                                    tag  \n",
       "0        B-attack O O B-system I-system  \n",
       "1      B-tool O B-technique I-technique  \n",
       "2  B-tool O O O B-technique I-technique  \n",
       "3          B-tool O O B-attack I-attack  \n",
       "4    B-tool O O O O O O O B-tool I-tool  "
      ]
     },
     "execution_count": 16,
     "metadata": {},
     "output_type": "execute_result"
    }
   ],
   "source": [
    "df.head()"
   ]
  },
  {
   "cell_type": "code",
   "execution_count": 17,
   "id": "2347cb0e",
   "metadata": {},
   "outputs": [
    {
     "name": "stderr",
     "output_type": "stream",
     "text": [
      "<ipython-input-17-f767b3ba9cd9>:5: DeprecationWarning: The default dtype for empty Series will be 'object' instead of 'float64' in a future version. Specify a dtype explicitly to silence this warning.\n",
      "  df_new = df_new.append(pd.Series(), ignore_index=True)\n"
     ]
    }
   ],
   "source": [
    "# add a blank row after each statement\n",
    "df_new = pd.DataFrame()\n",
    "for i, row in df.iterrows():\n",
    "    df_new = df_new.append(row)\n",
    "    for _ in range(1):\n",
    "        df_new = df_new.append(pd.Series(), ignore_index=True)"
   ]
  },
  {
   "cell_type": "code",
   "execution_count": 21,
   "id": "8a6744a2",
   "metadata": {},
   "outputs": [],
   "source": [
    "df_new['Sno']=df_new['Sno'].fillna(0).astype('int')"
   ]
  },
  {
   "cell_type": "code",
   "execution_count": 22,
   "id": "c85cc692",
   "metadata": {},
   "outputs": [
    {
     "data": {
      "text/html": [
       "<div>\n",
       "<style scoped>\n",
       "    .dataframe tbody tr th:only-of-type {\n",
       "        vertical-align: middle;\n",
       "    }\n",
       "\n",
       "    .dataframe tbody tr th {\n",
       "        vertical-align: top;\n",
       "    }\n",
       "\n",
       "    .dataframe thead th {\n",
       "        text-align: right;\n",
       "    }\n",
       "</style>\n",
       "<table border=\"1\" class=\"dataframe\">\n",
       "  <thead>\n",
       "    <tr style=\"text-align: right;\">\n",
       "      <th></th>\n",
       "      <th>DocNo</th>\n",
       "      <th>Sno</th>\n",
       "      <th>sentence</th>\n",
       "      <th>tag</th>\n",
       "    </tr>\n",
       "  </thead>\n",
       "  <tbody>\n",
       "    <tr>\n",
       "      <th>0</th>\n",
       "      <td>D1</td>\n",
       "      <td>1</td>\n",
       "      <td>Attacks can damage public domain</td>\n",
       "      <td>B-attack O O B-system I-system</td>\n",
       "    </tr>\n",
       "    <tr>\n",
       "      <th>1</th>\n",
       "      <td>NaN</td>\n",
       "      <td>0</td>\n",
       "      <td>NaN</td>\n",
       "      <td>NaN</td>\n",
       "    </tr>\n",
       "    <tr>\n",
       "      <th>2</th>\n",
       "      <td>D1</td>\n",
       "      <td>2</td>\n",
       "      <td>IDS means Intrusion Detection</td>\n",
       "      <td>B-tool O B-technique I-technique</td>\n",
       "    </tr>\n",
       "    <tr>\n",
       "      <th>3</th>\n",
       "      <td>NaN</td>\n",
       "      <td>0</td>\n",
       "      <td>NaN</td>\n",
       "      <td>NaN</td>\n",
       "    </tr>\n",
       "    <tr>\n",
       "      <th>4</th>\n",
       "      <td>D1</td>\n",
       "      <td>3</td>\n",
       "      <td>Snort is used for Intrusion Detection</td>\n",
       "      <td>B-tool O O O B-technique I-technique</td>\n",
       "    </tr>\n",
       "  </tbody>\n",
       "</table>\n",
       "</div>"
      ],
      "text/plain": [
       "  DocNo  Sno                               sentence  \\\n",
       "0    D1    1       Attacks can damage public domain   \n",
       "1   NaN    0                                    NaN   \n",
       "2    D1    2          IDS means Intrusion Detection   \n",
       "3   NaN    0                                    NaN   \n",
       "4    D1    3  Snort is used for Intrusion Detection   \n",
       "\n",
       "                                    tag  \n",
       "0        B-attack O O B-system I-system  \n",
       "1                                   NaN  \n",
       "2      B-tool O B-technique I-technique  \n",
       "3                                   NaN  \n",
       "4  B-tool O O O B-technique I-technique  "
      ]
     },
     "execution_count": 22,
     "metadata": {},
     "output_type": "execute_result"
    }
   ],
   "source": [
    "df_new.head()"
   ]
  },
  {
   "cell_type": "code",
   "execution_count": 23,
   "id": "f4dd3f49",
   "metadata": {},
   "outputs": [],
   "source": [
    "#df_new['DocNo']=df_new['DocNo'].fillna(0)"
   ]
  },
  {
   "cell_type": "code",
   "execution_count": 26,
   "id": "584f063d",
   "metadata": {},
   "outputs": [],
   "source": [
    "u = df_new.sentence.str.split(expand=True).stack()\n",
    "v = df_new.tag.str.split(expand=True).stack()"
   ]
  },
  {
   "cell_type": "code",
   "execution_count": 27,
   "id": "d80b3543",
   "metadata": {},
   "outputs": [
    {
     "data": {
      "text/plain": [
       "8965"
      ]
     },
     "execution_count": 27,
     "metadata": {},
     "output_type": "execute_result"
    }
   ],
   "source": [
    "len(u)"
   ]
  },
  {
   "cell_type": "code",
   "execution_count": 28,
   "id": "3946cca6",
   "metadata": {},
   "outputs": [
    {
     "data": {
      "text/plain": [
       "9010"
      ]
     },
     "execution_count": 28,
     "metadata": {},
     "output_type": "execute_result"
    }
   ],
   "source": [
    "len(v)"
   ]
  },
  {
   "cell_type": "code",
   "execution_count": 29,
   "id": "7a2ebdc8",
   "metadata": {},
   "outputs": [
    {
     "data": {
      "text/plain": [
       "0     0      Attacks\n",
       "      1          can\n",
       "      2       damage\n",
       "      3       public\n",
       "      4       domain\n",
       "              ...   \n",
       "1182  12    received\n",
       "      13          at\n",
       "      14         the\n",
       "      15      server\n",
       "      16        side\n",
       "Length: 8965, dtype: object"
      ]
     },
     "execution_count": 29,
     "metadata": {},
     "output_type": "execute_result"
    }
   ],
   "source": [
    "u"
   ]
  },
  {
   "cell_type": "code",
   "execution_count": 30,
   "id": "9469f97a",
   "metadata": {},
   "outputs": [
    {
     "data": {
      "text/plain": [
       "0     0     B-attack\n",
       "      1            O\n",
       "      2            O\n",
       "      3     B-system\n",
       "      4     I-system\n",
       "              ...   \n",
       "1182  12           O\n",
       "      13           O\n",
       "      14           O\n",
       "      15    B-system\n",
       "      16    I-system\n",
       "Length: 9010, dtype: object"
      ]
     },
     "execution_count": 30,
     "metadata": {},
     "output_type": "execute_result"
    }
   ],
   "source": [
    "v"
   ]
  },
  {
   "cell_type": "code",
   "execution_count": 33,
   "id": "dc6dd24d",
   "metadata": {},
   "outputs": [
    {
     "data": {
      "text/plain": [
       "1182  7              O\n",
       "      8     B-function\n",
       "      9              O\n",
       "      10        B-tool\n",
       "      11        B-data\n",
       "      12             O\n",
       "      13             O\n",
       "      14             O\n",
       "      15      B-system\n",
       "      16      I-system\n",
       "dtype: object"
      ]
     },
     "execution_count": 33,
     "metadata": {},
     "output_type": "execute_result"
    }
   ],
   "source": [
    "v[-10:]"
   ]
  },
  {
   "cell_type": "code",
   "execution_count": null,
   "id": "ed2db0e0",
   "metadata": {},
   "outputs": [],
   "source": []
  },
  {
   "cell_type": "code",
   "execution_count": 67,
   "id": "cf174521",
   "metadata": {},
   "outputs": [],
   "source": [
    "df_new['c1'] = df_new['sentence'].str.split().str.len()"
   ]
  },
  {
   "cell_type": "code",
   "execution_count": 68,
   "id": "0908bbb0",
   "metadata": {},
   "outputs": [],
   "source": [
    "df_new['c2'] = df_new['tag'].str.split().str.len()"
   ]
  },
  {
   "cell_type": "code",
   "execution_count": 69,
   "id": "128ad016",
   "metadata": {},
   "outputs": [],
   "source": [
    "df_new['c1']=df_new['c1'].fillna(0).astype('int')\n",
    "df_new['c2']=df_new['c2'].fillna(0).astype('int')"
   ]
  },
  {
   "cell_type": "code",
   "execution_count": 70,
   "id": "e4a40e93",
   "metadata": {},
   "outputs": [
    {
     "data": {
      "text/html": [
       "<div>\n",
       "<style scoped>\n",
       "    .dataframe tbody tr th:only-of-type {\n",
       "        vertical-align: middle;\n",
       "    }\n",
       "\n",
       "    .dataframe tbody tr th {\n",
       "        vertical-align: top;\n",
       "    }\n",
       "\n",
       "    .dataframe thead th {\n",
       "        text-align: right;\n",
       "    }\n",
       "</style>\n",
       "<table border=\"1\" class=\"dataframe\">\n",
       "  <thead>\n",
       "    <tr style=\"text-align: right;\">\n",
       "      <th></th>\n",
       "      <th>Unnamed: 0</th>\n",
       "      <th>Unnamed: 0.1</th>\n",
       "      <th>DocNo</th>\n",
       "      <th>Sno</th>\n",
       "      <th>sentence</th>\n",
       "      <th>tag</th>\n",
       "      <th>c1</th>\n",
       "      <th>c2</th>\n",
       "      <th>compare</th>\n",
       "    </tr>\n",
       "  </thead>\n",
       "  <tbody>\n",
       "    <tr>\n",
       "      <th>0</th>\n",
       "      <td>0</td>\n",
       "      <td>0</td>\n",
       "      <td>D1</td>\n",
       "      <td>1</td>\n",
       "      <td>Attacks can damage public domain</td>\n",
       "      <td>B-attack O O B-system I-system</td>\n",
       "      <td>5</td>\n",
       "      <td>5</td>\n",
       "      <td>1</td>\n",
       "    </tr>\n",
       "    <tr>\n",
       "      <th>1</th>\n",
       "      <td>1</td>\n",
       "      <td>1</td>\n",
       "      <td>NaN</td>\n",
       "      <td>0</td>\n",
       "      <td>NaN</td>\n",
       "      <td>NaN</td>\n",
       "      <td>0</td>\n",
       "      <td>0</td>\n",
       "      <td>1</td>\n",
       "    </tr>\n",
       "    <tr>\n",
       "      <th>2</th>\n",
       "      <td>2</td>\n",
       "      <td>2</td>\n",
       "      <td>D1</td>\n",
       "      <td>2</td>\n",
       "      <td>IDS means Intrusion Detection</td>\n",
       "      <td>B-tool O B-technique I-technique</td>\n",
       "      <td>4</td>\n",
       "      <td>4</td>\n",
       "      <td>1</td>\n",
       "    </tr>\n",
       "    <tr>\n",
       "      <th>3</th>\n",
       "      <td>3</td>\n",
       "      <td>3</td>\n",
       "      <td>NaN</td>\n",
       "      <td>0</td>\n",
       "      <td>NaN</td>\n",
       "      <td>NaN</td>\n",
       "      <td>0</td>\n",
       "      <td>0</td>\n",
       "      <td>1</td>\n",
       "    </tr>\n",
       "    <tr>\n",
       "      <th>4</th>\n",
       "      <td>4</td>\n",
       "      <td>4</td>\n",
       "      <td>D1</td>\n",
       "      <td>3</td>\n",
       "      <td>Snort is used for Intrusion Detection</td>\n",
       "      <td>B-tool O O O B-technique I-technique</td>\n",
       "      <td>6</td>\n",
       "      <td>6</td>\n",
       "      <td>1</td>\n",
       "    </tr>\n",
       "  </tbody>\n",
       "</table>\n",
       "</div>"
      ],
      "text/plain": [
       "   Unnamed: 0  Unnamed: 0.1 DocNo  Sno                               sentence  \\\n",
       "0           0             0    D1    1       Attacks can damage public domain   \n",
       "1           1             1   NaN    0                                    NaN   \n",
       "2           2             2    D1    2          IDS means Intrusion Detection   \n",
       "3           3             3   NaN    0                                    NaN   \n",
       "4           4             4    D1    3  Snort is used for Intrusion Detection   \n",
       "\n",
       "                                    tag  c1  c2  compare  \n",
       "0        B-attack O O B-system I-system   5   5        1  \n",
       "1                                   NaN   0   0        1  \n",
       "2      B-tool O B-technique I-technique   4   4        1  \n",
       "3                                   NaN   0   0        1  \n",
       "4  B-tool O O O B-technique I-technique   6   6        1  "
      ]
     },
     "execution_count": 70,
     "metadata": {},
     "output_type": "execute_result"
    }
   ],
   "source": [
    "df_new.head()"
   ]
  },
  {
   "cell_type": "code",
   "execution_count": 71,
   "id": "7c7db2ad",
   "metadata": {},
   "outputs": [],
   "source": [
    "df_new['compare']= np.where((df_new['c1'] != df_new['c2']), 0,1)"
   ]
  },
  {
   "cell_type": "code",
   "execution_count": 72,
   "id": "f1af6268",
   "metadata": {},
   "outputs": [
    {
     "data": {
      "text/html": [
       "<div>\n",
       "<style scoped>\n",
       "    .dataframe tbody tr th:only-of-type {\n",
       "        vertical-align: middle;\n",
       "    }\n",
       "\n",
       "    .dataframe tbody tr th {\n",
       "        vertical-align: top;\n",
       "    }\n",
       "\n",
       "    .dataframe thead th {\n",
       "        text-align: right;\n",
       "    }\n",
       "</style>\n",
       "<table border=\"1\" class=\"dataframe\">\n",
       "  <thead>\n",
       "    <tr style=\"text-align: right;\">\n",
       "      <th></th>\n",
       "      <th>Unnamed: 0</th>\n",
       "      <th>Unnamed: 0.1</th>\n",
       "      <th>DocNo</th>\n",
       "      <th>Sno</th>\n",
       "      <th>sentence</th>\n",
       "      <th>tag</th>\n",
       "      <th>c1</th>\n",
       "      <th>c2</th>\n",
       "      <th>compare</th>\n",
       "    </tr>\n",
       "  </thead>\n",
       "  <tbody>\n",
       "    <tr>\n",
       "      <th>0</th>\n",
       "      <td>0</td>\n",
       "      <td>0</td>\n",
       "      <td>D1</td>\n",
       "      <td>1</td>\n",
       "      <td>Attacks can damage public domain</td>\n",
       "      <td>B-attack O O B-system I-system</td>\n",
       "      <td>5</td>\n",
       "      <td>5</td>\n",
       "      <td>1</td>\n",
       "    </tr>\n",
       "    <tr>\n",
       "      <th>1</th>\n",
       "      <td>1</td>\n",
       "      <td>1</td>\n",
       "      <td>NaN</td>\n",
       "      <td>0</td>\n",
       "      <td>NaN</td>\n",
       "      <td>NaN</td>\n",
       "      <td>0</td>\n",
       "      <td>0</td>\n",
       "      <td>1</td>\n",
       "    </tr>\n",
       "    <tr>\n",
       "      <th>2</th>\n",
       "      <td>2</td>\n",
       "      <td>2</td>\n",
       "      <td>D1</td>\n",
       "      <td>2</td>\n",
       "      <td>IDS means Intrusion Detection</td>\n",
       "      <td>B-tool O B-technique I-technique</td>\n",
       "      <td>4</td>\n",
       "      <td>4</td>\n",
       "      <td>1</td>\n",
       "    </tr>\n",
       "    <tr>\n",
       "      <th>3</th>\n",
       "      <td>3</td>\n",
       "      <td>3</td>\n",
       "      <td>NaN</td>\n",
       "      <td>0</td>\n",
       "      <td>NaN</td>\n",
       "      <td>NaN</td>\n",
       "      <td>0</td>\n",
       "      <td>0</td>\n",
       "      <td>1</td>\n",
       "    </tr>\n",
       "    <tr>\n",
       "      <th>4</th>\n",
       "      <td>4</td>\n",
       "      <td>4</td>\n",
       "      <td>D1</td>\n",
       "      <td>3</td>\n",
       "      <td>Snort is used for Intrusion Detection</td>\n",
       "      <td>B-tool O O O B-technique I-technique</td>\n",
       "      <td>6</td>\n",
       "      <td>6</td>\n",
       "      <td>1</td>\n",
       "    </tr>\n",
       "  </tbody>\n",
       "</table>\n",
       "</div>"
      ],
      "text/plain": [
       "   Unnamed: 0  Unnamed: 0.1 DocNo  Sno                               sentence  \\\n",
       "0           0             0    D1    1       Attacks can damage public domain   \n",
       "1           1             1   NaN    0                                    NaN   \n",
       "2           2             2    D1    2          IDS means Intrusion Detection   \n",
       "3           3             3   NaN    0                                    NaN   \n",
       "4           4             4    D1    3  Snort is used for Intrusion Detection   \n",
       "\n",
       "                                    tag  c1  c2  compare  \n",
       "0        B-attack O O B-system I-system   5   5        1  \n",
       "1                                   NaN   0   0        1  \n",
       "2      B-tool O B-technique I-technique   4   4        1  \n",
       "3                                   NaN   0   0        1  \n",
       "4  B-tool O O O B-technique I-technique   6   6        1  "
      ]
     },
     "execution_count": 72,
     "metadata": {},
     "output_type": "execute_result"
    }
   ],
   "source": [
    "df_new.head()"
   ]
  },
  {
   "cell_type": "code",
   "execution_count": 73,
   "id": "75af02a2",
   "metadata": {},
   "outputs": [],
   "source": [
    "df_new.to_csv('temp.csv')"
   ]
  },
  {
   "cell_type": "code",
   "execution_count": 89,
   "id": "9b4d6e50",
   "metadata": {},
   "outputs": [],
   "source": [
    "df_new = pd.read_csv(path + '/temp.csv')"
   ]
  },
  {
   "cell_type": "code",
   "execution_count": 93,
   "id": "787ae0b5",
   "metadata": {},
   "outputs": [
    {
     "data": {
      "text/html": [
       "<div>\n",
       "<style scoped>\n",
       "    .dataframe tbody tr th:only-of-type {\n",
       "        vertical-align: middle;\n",
       "    }\n",
       "\n",
       "    .dataframe tbody tr th {\n",
       "        vertical-align: top;\n",
       "    }\n",
       "\n",
       "    .dataframe thead th {\n",
       "        text-align: right;\n",
       "    }\n",
       "</style>\n",
       "<table border=\"1\" class=\"dataframe\">\n",
       "  <thead>\n",
       "    <tr style=\"text-align: right;\">\n",
       "      <th></th>\n",
       "      <th>Unnamed: 0</th>\n",
       "      <th>Unnamed: 0.1</th>\n",
       "      <th>Unnamed: 0.1.1</th>\n",
       "      <th>DocNo</th>\n",
       "      <th>Sno</th>\n",
       "      <th>sentence</th>\n",
       "      <th>tag</th>\n",
       "      <th>c1</th>\n",
       "      <th>c2</th>\n",
       "      <th>compare</th>\n",
       "    </tr>\n",
       "  </thead>\n",
       "  <tbody>\n",
       "    <tr>\n",
       "      <th>0</th>\n",
       "      <td>0</td>\n",
       "      <td>0</td>\n",
       "      <td>0</td>\n",
       "      <td>D1</td>\n",
       "      <td>1</td>\n",
       "      <td>Attacks can damage public domain</td>\n",
       "      <td>B-attack O O B-system I-system</td>\n",
       "      <td>5</td>\n",
       "      <td>5</td>\n",
       "      <td>1</td>\n",
       "    </tr>\n",
       "    <tr>\n",
       "      <th>1</th>\n",
       "      <td>1</td>\n",
       "      <td>1</td>\n",
       "      <td>1</td>\n",
       "      <td>NaN</td>\n",
       "      <td>0</td>\n",
       "      <td>blank</td>\n",
       "      <td>blank</td>\n",
       "      <td>0</td>\n",
       "      <td>0</td>\n",
       "      <td>1</td>\n",
       "    </tr>\n",
       "    <tr>\n",
       "      <th>2</th>\n",
       "      <td>2</td>\n",
       "      <td>2</td>\n",
       "      <td>2</td>\n",
       "      <td>D1</td>\n",
       "      <td>2</td>\n",
       "      <td>IDS means Intrusion Detection</td>\n",
       "      <td>B-tool O B-technique I-technique</td>\n",
       "      <td>4</td>\n",
       "      <td>4</td>\n",
       "      <td>1</td>\n",
       "    </tr>\n",
       "    <tr>\n",
       "      <th>3</th>\n",
       "      <td>3</td>\n",
       "      <td>3</td>\n",
       "      <td>3</td>\n",
       "      <td>NaN</td>\n",
       "      <td>0</td>\n",
       "      <td>blank</td>\n",
       "      <td>blank</td>\n",
       "      <td>0</td>\n",
       "      <td>0</td>\n",
       "      <td>1</td>\n",
       "    </tr>\n",
       "    <tr>\n",
       "      <th>4</th>\n",
       "      <td>4</td>\n",
       "      <td>4</td>\n",
       "      <td>4</td>\n",
       "      <td>D1</td>\n",
       "      <td>3</td>\n",
       "      <td>Snort is used for Intrusion Detection</td>\n",
       "      <td>B-tool O O O B-technique I-technique</td>\n",
       "      <td>6</td>\n",
       "      <td>6</td>\n",
       "      <td>1</td>\n",
       "    </tr>\n",
       "  </tbody>\n",
       "</table>\n",
       "</div>"
      ],
      "text/plain": [
       "   Unnamed: 0  Unnamed: 0.1  Unnamed: 0.1.1 DocNo  Sno  \\\n",
       "0           0             0               0    D1    1   \n",
       "1           1             1               1   NaN    0   \n",
       "2           2             2               2    D1    2   \n",
       "3           3             3               3   NaN    0   \n",
       "4           4             4               4    D1    3   \n",
       "\n",
       "                                sentence  \\\n",
       "0       Attacks can damage public domain   \n",
       "1                                  blank   \n",
       "2          IDS means Intrusion Detection   \n",
       "3                                  blank   \n",
       "4  Snort is used for Intrusion Detection   \n",
       "\n",
       "                                    tag  c1  c2  compare  \n",
       "0        B-attack O O B-system I-system   5   5        1  \n",
       "1                                 blank   0   0        1  \n",
       "2      B-tool O B-technique I-technique   4   4        1  \n",
       "3                                 blank   0   0        1  \n",
       "4  B-tool O O O B-technique I-technique   6   6        1  "
      ]
     },
     "execution_count": 93,
     "metadata": {},
     "output_type": "execute_result"
    }
   ],
   "source": [
    "df_new.head()"
   ]
  },
  {
   "cell_type": "code",
   "execution_count": 75,
   "id": "4fbf993b",
   "metadata": {},
   "outputs": [
    {
     "data": {
      "text/html": [
       "<div>\n",
       "<style scoped>\n",
       "    .dataframe tbody tr th:only-of-type {\n",
       "        vertical-align: middle;\n",
       "    }\n",
       "\n",
       "    .dataframe tbody tr th {\n",
       "        vertical-align: top;\n",
       "    }\n",
       "\n",
       "    .dataframe thead th {\n",
       "        text-align: right;\n",
       "    }\n",
       "</style>\n",
       "<table border=\"1\" class=\"dataframe\">\n",
       "  <thead>\n",
       "    <tr style=\"text-align: right;\">\n",
       "      <th></th>\n",
       "      <th>sentence</th>\n",
       "      <th>tag</th>\n",
       "    </tr>\n",
       "  </thead>\n",
       "  <tbody>\n",
       "    <tr>\n",
       "      <th>0</th>\n",
       "      <td>Attacks</td>\n",
       "      <td>B-attack</td>\n",
       "    </tr>\n",
       "    <tr>\n",
       "      <th>1</th>\n",
       "      <td>can</td>\n",
       "      <td>O</td>\n",
       "    </tr>\n",
       "    <tr>\n",
       "      <th>2</th>\n",
       "      <td>damage</td>\n",
       "      <td>O</td>\n",
       "    </tr>\n",
       "    <tr>\n",
       "      <th>3</th>\n",
       "      <td>public</td>\n",
       "      <td>B-system</td>\n",
       "    </tr>\n",
       "    <tr>\n",
       "      <th>4</th>\n",
       "      <td>domain</td>\n",
       "      <td>I-system</td>\n",
       "    </tr>\n",
       "  </tbody>\n",
       "</table>\n",
       "</div>"
      ],
      "text/plain": [
       "  sentence       tag\n",
       "0  Attacks  B-attack\n",
       "1      can         O\n",
       "2   damage         O\n",
       "3   public  B-system\n",
       "4   domain  I-system"
      ]
     },
     "execution_count": 75,
     "metadata": {},
     "output_type": "execute_result"
    }
   ],
   "source": [
    "ds.head()"
   ]
  },
  {
   "cell_type": "code",
   "execution_count": 91,
   "id": "3598459d",
   "metadata": {},
   "outputs": [],
   "source": [
    "# insert blanks\n",
    "df_new['sentence']=df_new['sentence'].fillna('blank')"
   ]
  },
  {
   "cell_type": "code",
   "execution_count": 92,
   "id": "e7fd33b5",
   "metadata": {},
   "outputs": [],
   "source": [
    "df_new['tag']=df_new['tag'].fillna('blank')"
   ]
  },
  {
   "cell_type": "code",
   "execution_count": 94,
   "id": "037cc877",
   "metadata": {},
   "outputs": [],
   "source": [
    "# split the sentence into words\n",
    "u = df_new.sentence.str.split(expand=True).stack()\n",
    "v = df_new.tag.str.split(expand=True).stack()\n",
    "\n",
    "\n",
    "dsp = pd.DataFrame({\n",
    "    'sentence': u.values, \n",
    "    'tag': v.values, \n",
    "})"
   ]
  },
  {
   "cell_type": "code",
   "execution_count": 96,
   "id": "0f8c2bf3",
   "metadata": {},
   "outputs": [],
   "source": [
    "dsp.to_csv('splitdata.csv')"
   ]
  },
  {
   "cell_type": "code",
   "execution_count": 97,
   "id": "68651e1c",
   "metadata": {},
   "outputs": [],
   "source": [
    "dsp = pd.read_csv(path + '/splitdata.csv')"
   ]
  },
  {
   "cell_type": "code",
   "execution_count": 98,
   "id": "43f88026",
   "metadata": {},
   "outputs": [
    {
     "data": {
      "text/html": [
       "<div>\n",
       "<style scoped>\n",
       "    .dataframe tbody tr th:only-of-type {\n",
       "        vertical-align: middle;\n",
       "    }\n",
       "\n",
       "    .dataframe tbody tr th {\n",
       "        vertical-align: top;\n",
       "    }\n",
       "\n",
       "    .dataframe thead th {\n",
       "        text-align: right;\n",
       "    }\n",
       "</style>\n",
       "<table border=\"1\" class=\"dataframe\">\n",
       "  <thead>\n",
       "    <tr style=\"text-align: right;\">\n",
       "      <th></th>\n",
       "      <th>DocNo</th>\n",
       "      <th>Unnamed: 1</th>\n",
       "      <th>sentence</th>\n",
       "      <th>tag</th>\n",
       "    </tr>\n",
       "  </thead>\n",
       "  <tbody>\n",
       "    <tr>\n",
       "      <th>0</th>\n",
       "      <td>D1</td>\n",
       "      <td>0</td>\n",
       "      <td>Attacks</td>\n",
       "      <td>B-attack</td>\n",
       "    </tr>\n",
       "    <tr>\n",
       "      <th>1</th>\n",
       "      <td>D1</td>\n",
       "      <td>1</td>\n",
       "      <td>can</td>\n",
       "      <td>O</td>\n",
       "    </tr>\n",
       "    <tr>\n",
       "      <th>2</th>\n",
       "      <td>D1</td>\n",
       "      <td>2</td>\n",
       "      <td>damage</td>\n",
       "      <td>O</td>\n",
       "    </tr>\n",
       "    <tr>\n",
       "      <th>3</th>\n",
       "      <td>D1</td>\n",
       "      <td>3</td>\n",
       "      <td>public</td>\n",
       "      <td>B-system</td>\n",
       "    </tr>\n",
       "    <tr>\n",
       "      <th>4</th>\n",
       "      <td>D1</td>\n",
       "      <td>4</td>\n",
       "      <td>domain</td>\n",
       "      <td>I-system</td>\n",
       "    </tr>\n",
       "  </tbody>\n",
       "</table>\n",
       "</div>"
      ],
      "text/plain": [
       "  DocNo  Unnamed: 1 sentence       tag\n",
       "0    D1           0  Attacks  B-attack\n",
       "1    D1           1      can         O\n",
       "2    D1           2   damage         O\n",
       "3    D1           3   public  B-system\n",
       "4    D1           4   domain  I-system"
      ]
     },
     "execution_count": 98,
     "metadata": {},
     "output_type": "execute_result"
    }
   ],
   "source": [
    "dsp.head()"
   ]
  },
  {
   "cell_type": "code",
   "execution_count": 99,
   "id": "e3ba74ce",
   "metadata": {},
   "outputs": [],
   "source": [
    "dsp = dsp.drop('Unnamed: 1', axis=1)"
   ]
  },
  {
   "cell_type": "code",
   "execution_count": 102,
   "id": "efe0e0a4",
   "metadata": {},
   "outputs": [],
   "source": [
    "dsp['DocNo'].mask(dsp['sentence'] == 'blank', 'blank', inplace=True)"
   ]
  },
  {
   "cell_type": "code",
   "execution_count": 105,
   "id": "3ad496db",
   "metadata": {},
   "outputs": [],
   "source": [
    "dsp.to_csv('splitdata.csv')"
   ]
  },
  {
   "cell_type": "code",
   "execution_count": 5,
   "id": "73bc8fbe",
   "metadata": {},
   "outputs": [],
   "source": [
    "dsf = pd.read_csv(path + '/splitdata_final.csv')"
   ]
  },
  {
   "cell_type": "code",
   "execution_count": 7,
   "id": "858c515b",
   "metadata": {},
   "outputs": [
    {
     "data": {
      "text/plain": [
       "array(['B-attack', 'O', 'B-system', 'I-system', '', 'B-tool',\n",
       "       'B-technique', 'I-technique', 'I-attack', 'I-tool', 'B-data',\n",
       "       'B-feature', 'I-feature', 'B-function', 'I-function', 'I-data',\n",
       "       'B-vulnerability', 'I-vulnerability', 'B-app', 'B-securityTeam',\n",
       "       'I-securityTeam', 'B-attacker', 'I-attacker', 'B-user', 'I-app',\n",
       "       'I-user'], dtype=object)"
      ]
     },
     "execution_count": 7,
     "metadata": {},
     "output_type": "execute_result"
    }
   ],
   "source": [
    "dsf = dsf.fillna(\"\")\n",
    "dsf.tag.unique()"
   ]
  },
  {
   "cell_type": "code",
   "execution_count": 8,
   "id": "5e4213a7",
   "metadata": {},
   "outputs": [],
   "source": [
    "dsf= dsf.drop('DocNo', axis=1)"
   ]
  },
  {
   "cell_type": "code",
   "execution_count": 9,
   "id": "90efeed7",
   "metadata": {},
   "outputs": [
    {
     "data": {
      "text/html": [
       "<div>\n",
       "<style scoped>\n",
       "    .dataframe tbody tr th:only-of-type {\n",
       "        vertical-align: middle;\n",
       "    }\n",
       "\n",
       "    .dataframe tbody tr th {\n",
       "        vertical-align: top;\n",
       "    }\n",
       "\n",
       "    .dataframe thead th {\n",
       "        text-align: right;\n",
       "    }\n",
       "</style>\n",
       "<table border=\"1\" class=\"dataframe\">\n",
       "  <thead>\n",
       "    <tr style=\"text-align: right;\">\n",
       "      <th></th>\n",
       "      <th>sentence</th>\n",
       "      <th>tag</th>\n",
       "    </tr>\n",
       "  </thead>\n",
       "  <tbody>\n",
       "    <tr>\n",
       "      <th>0</th>\n",
       "      <td>Attacks</td>\n",
       "      <td>B-attack</td>\n",
       "    </tr>\n",
       "    <tr>\n",
       "      <th>1</th>\n",
       "      <td>can</td>\n",
       "      <td>O</td>\n",
       "    </tr>\n",
       "    <tr>\n",
       "      <th>2</th>\n",
       "      <td>damage</td>\n",
       "      <td>O</td>\n",
       "    </tr>\n",
       "    <tr>\n",
       "      <th>3</th>\n",
       "      <td>public</td>\n",
       "      <td>B-system</td>\n",
       "    </tr>\n",
       "    <tr>\n",
       "      <th>4</th>\n",
       "      <td>domain</td>\n",
       "      <td>I-system</td>\n",
       "    </tr>\n",
       "  </tbody>\n",
       "</table>\n",
       "</div>"
      ],
      "text/plain": [
       "  sentence       tag\n",
       "0  Attacks  B-attack\n",
       "1      can         O\n",
       "2   damage         O\n",
       "3   public  B-system\n",
       "4   domain  I-system"
      ]
     },
     "execution_count": 9,
     "metadata": {},
     "output_type": "execute_result"
    }
   ],
   "source": [
    "dsf.head()"
   ]
  },
  {
   "cell_type": "code",
   "execution_count": 10,
   "id": "11c572de",
   "metadata": {},
   "outputs": [],
   "source": [
    "# remove the other words\n",
    "df_entity = dsf[dsf['tag'] != 'O']"
   ]
  },
  {
   "cell_type": "code",
   "execution_count": null,
   "id": "d3b99cff",
   "metadata": {},
   "outputs": [],
   "source": []
  },
  {
   "cell_type": "code",
   "execution_count": 14,
   "id": "5a0c3ef1",
   "metadata": {},
   "outputs": [
    {
     "data": {
      "text/plain": [
       "3833"
      ]
     },
     "execution_count": 14,
     "metadata": {},
     "output_type": "execute_result"
    }
   ],
   "source": [
    "len(df_entity)"
   ]
  },
  {
   "cell_type": "code",
   "execution_count": 5,
   "id": "55eb3f70",
   "metadata": {},
   "outputs": [],
   "source": [
    "# schema as per ontology\n",
    "schema = [\n",
    "('user', 'uses', 'app'), \n",
    "('user', 'uses', 'system'), \n",
    "('user', 'uses', 'data'), \n",
    "('app', 'uses', 'data'), \n",
    "('system', 'uses', 'data'), \n",
    "('system', 'has_a', 'tool'), \n",
    "('app', 'has_a', 'tool'),\n",
    "('tool', 'is_part_of', 'system'),\n",
    "('tool', 'is_part_of', 'app'),\n",
    "('tool', 'is_part_of', 'tool'),\n",
    "('tool', 'has_a', 'function'),\n",
    "('tool', 'has_a', 'feature'),\n",
    "('tool', 'uses', 'technique'),\n",
    "('technique', 'has_a', 'tool'),\n",
    "('function', 'has_a', 'feature'),\n",
    "('feature', 'is_part_of', 'tool'),\n",
    "('system', 'has_a', 'feature'),\n",
    "('app', 'has_a', 'feature'),\n",
    "('feature', 'uses', 'data'),\n",
    "('tool', 'uses', 'data'), \n",
    "('app', 'can_expose', 'vulnerability'),\n",
    "('system', 'can_expose', 'vulnerability'),\n",
    "('data', 'can_expose', 'vulnerability'),\n",
    "('feature', 'can_expose', 'vulnerability'),\n",
    "('attacker', 'can_exploit', 'vulnerability'),\n",
    "('attacker', 'uses', 'feature'),\n",
    "('attacker', 'uses', 'function'),\n",
    "('attacker', 'uses', 'tool'),\n",
    "('attacker', 'implements', 'attack'),\n",
    "('attacker', 'uses', 'technique'),\n",
    "('technique', 'implements', 'attack'),\n",
    "('attacker', 'can_harm', 'app'),\n",
    "('attacker', 'can_harm', 'data'),\n",
    "('attacker', 'can_harm', 'system'),\n",
    "('attack', 'is_part_of', 'attack'), \n",
    "('attack', 'can_harm', 'system'),\n",
    "('attack', 'can_harm', 'app'),\n",
    "('attack', 'can_harm', 'data'), \n",
    "('securityTeam', 'can_analyze', 'app'),\n",
    "('securityTeam', 'can_analyze', 'data'),\n",
    "('securityTeam', 'can_analyze', 'system'),\n",
    "('securityTeam', 'uses', 'tool'),\n",
    "('securityTeam', 'implements', 'function'),\n",
    "('securityTeam', 'can_analyze', 'feature'),\n",
    "('securityTeam', 'uses', 'technique'),\n",
    "('securityTeam', 'can_detect', 'vulnerability'),\n",
    "('securityTeam', 'can_analyze', 'attack'),\n",
    "('tool', 'can_analyze', 'system'),\n",
    "('tool', 'can_analyze', 'app'),\n",
    "('tool', 'can_analyze', 'data'),\n",
    "('tool', 'can_analyze', 'vulnerability'),\n",
    "('tool', 'can_detect', 'attack'),\n",
    "('function', 'can_analyze', 'vulnerability'),\n",
    "('function', 'can_analyze', 'system'),\n",
    "('function', 'can_analyze', 'app'),\n",
    "('function', 'can_analyze', 'data'),\n",
    "('function', 'can_detect', 'attack'),\n",
    "('feature', 'can_analyze', 'system'),\n",
    "('feature', 'can_analyze', 'app'),\n",
    "('feature', 'can_analyze', 'data'),\n",
    "('feature', 'can_analyze', 'vulnerability') ,\n",
    "('feature', 'can_detect', 'attack') ,\n",
    "('technique', 'can_analyze', 'vulnerability'), \n",
    "('technique', 'can_detect', 'attack')\n",
    "]"
   ]
  },
  {
   "cell_type": "code",
   "execution_count": 15,
   "id": "3b7339d7",
   "metadata": {},
   "outputs": [],
   "source": [
    "df_entity.to_csv('temp2.csv')"
   ]
  },
  {
   "cell_type": "code",
   "execution_count": 62,
   "id": "18522773",
   "metadata": {},
   "outputs": [
    {
     "data": {
      "text/html": [
       "<div>\n",
       "<style scoped>\n",
       "    .dataframe tbody tr th:only-of-type {\n",
       "        vertical-align: middle;\n",
       "    }\n",
       "\n",
       "    .dataframe tbody tr th {\n",
       "        vertical-align: top;\n",
       "    }\n",
       "\n",
       "    .dataframe thead th {\n",
       "        text-align: right;\n",
       "    }\n",
       "</style>\n",
       "<table border=\"1\" class=\"dataframe\">\n",
       "  <thead>\n",
       "    <tr style=\"text-align: right;\">\n",
       "      <th></th>\n",
       "      <th>sentence</th>\n",
       "      <th>tag</th>\n",
       "    </tr>\n",
       "  </thead>\n",
       "  <tbody>\n",
       "    <tr>\n",
       "      <th>0</th>\n",
       "      <td>Attacks,</td>\n",
       "      <td>B-attack</td>\n",
       "    </tr>\n",
       "    <tr>\n",
       "      <th>3</th>\n",
       "      <td>public,</td>\n",
       "      <td>B-system</td>\n",
       "    </tr>\n",
       "    <tr>\n",
       "      <th>4</th>\n",
       "      <td>domain,</td>\n",
       "      <td>I-system</td>\n",
       "    </tr>\n",
       "    <tr>\n",
       "      <th>5</th>\n",
       "      <td>,</td>\n",
       "      <td></td>\n",
       "    </tr>\n",
       "    <tr>\n",
       "      <th>6</th>\n",
       "      <td>IDS,</td>\n",
       "      <td>B-tool</td>\n",
       "    </tr>\n",
       "    <tr>\n",
       "      <th>8</th>\n",
       "      <td>Intrusion,</td>\n",
       "      <td>B-technique</td>\n",
       "    </tr>\n",
       "    <tr>\n",
       "      <th>9</th>\n",
       "      <td>Detection,</td>\n",
       "      <td>I-technique</td>\n",
       "    </tr>\n",
       "    <tr>\n",
       "      <th>10</th>\n",
       "      <td>,</td>\n",
       "      <td></td>\n",
       "    </tr>\n",
       "    <tr>\n",
       "      <th>11</th>\n",
       "      <td>Snort,</td>\n",
       "      <td>B-tool</td>\n",
       "    </tr>\n",
       "    <tr>\n",
       "      <th>15</th>\n",
       "      <td>Intrusion,</td>\n",
       "      <td>B-technique</td>\n",
       "    </tr>\n",
       "  </tbody>\n",
       "</table>\n",
       "</div>"
      ],
      "text/plain": [
       "      sentence          tag\n",
       "0     Attacks,     B-attack\n",
       "3      public,     B-system\n",
       "4      domain,     I-system\n",
       "5            ,             \n",
       "6         IDS,       B-tool\n",
       "8   Intrusion,  B-technique\n",
       "9   Detection,  I-technique\n",
       "10           ,             \n",
       "11      Snort,       B-tool\n",
       "15  Intrusion,  B-technique"
      ]
     },
     "execution_count": 62,
     "metadata": {},
     "output_type": "execute_result"
    }
   ],
   "source": [
    "df_entity.head(10)"
   ]
  },
  {
   "cell_type": "code",
   "execution_count": 31,
   "id": "32496ec3",
   "metadata": {},
   "outputs": [
    {
     "data": {
      "text/plain": [
       "0        Attacks\n",
       "3         public\n",
       "4         domain\n",
       "5               \n",
       "6            IDS\n",
       "          ...   \n",
       "9549        test\n",
       "9551    firewall\n",
       "9552        logs\n",
       "9556      server\n",
       "9557        side\n",
       "Name: sentence, Length: 3833, dtype: object"
      ]
     },
     "execution_count": 31,
     "metadata": {},
     "output_type": "execute_result"
    }
   ],
   "source": [
    "df_entity.sentence"
   ]
  },
  {
   "cell_type": "code",
   "execution_count": 61,
   "id": "49956b94",
   "metadata": {},
   "outputs": [
    {
     "name": "stderr",
     "output_type": "stream",
     "text": [
      "<ipython-input-61-262552ce83cf>:1: SettingWithCopyWarning: \n",
      "A value is trying to be set on a copy of a slice from a DataFrame.\n",
      "Try using .loc[row_indexer,col_indexer] = value instead\n",
      "\n",
      "See the caveats in the documentation: https://pandas.pydata.org/pandas-docs/stable/user_guide/indexing.html#returning-a-view-versus-a-copy\n",
      "  df_entity['sentence']= df_entity['sentence'].apply(lambda x:\"{:},\".format(x))\n"
     ]
    }
   ],
   "source": [
    "df_entity['sentence']= df_entity['sentence'].apply(lambda x:\"{:},\".format(x))"
   ]
  },
  {
   "cell_type": "code",
   "execution_count": 63,
   "id": "608f32c3",
   "metadata": {},
   "outputs": [],
   "source": [
    "dfc= df_entity.groupby((~df_entity.tag.str.startswith('I')).cumsum(), as_index=False).sum()"
   ]
  },
  {
   "cell_type": "code",
   "execution_count": 64,
   "id": "f4ff9cae",
   "metadata": {},
   "outputs": [
    {
     "data": {
      "text/html": [
       "<div>\n",
       "<style scoped>\n",
       "    .dataframe tbody tr th:only-of-type {\n",
       "        vertical-align: middle;\n",
       "    }\n",
       "\n",
       "    .dataframe tbody tr th {\n",
       "        vertical-align: top;\n",
       "    }\n",
       "\n",
       "    .dataframe thead th {\n",
       "        text-align: right;\n",
       "    }\n",
       "</style>\n",
       "<table border=\"1\" class=\"dataframe\">\n",
       "  <thead>\n",
       "    <tr style=\"text-align: right;\">\n",
       "      <th></th>\n",
       "      <th>sentence</th>\n",
       "      <th>tag</th>\n",
       "    </tr>\n",
       "  </thead>\n",
       "  <tbody>\n",
       "    <tr>\n",
       "      <th>0</th>\n",
       "      <td>Attacks,</td>\n",
       "      <td>B-attack</td>\n",
       "    </tr>\n",
       "    <tr>\n",
       "      <th>1</th>\n",
       "      <td>public,domain,</td>\n",
       "      <td>B-systemI-system</td>\n",
       "    </tr>\n",
       "    <tr>\n",
       "      <th>2</th>\n",
       "      <td>,</td>\n",
       "      <td></td>\n",
       "    </tr>\n",
       "    <tr>\n",
       "      <th>3</th>\n",
       "      <td>IDS,</td>\n",
       "      <td>B-tool</td>\n",
       "    </tr>\n",
       "    <tr>\n",
       "      <th>4</th>\n",
       "      <td>Intrusion,Detection,</td>\n",
       "      <td>B-techniqueI-technique</td>\n",
       "    </tr>\n",
       "    <tr>\n",
       "      <th>5</th>\n",
       "      <td>,</td>\n",
       "      <td></td>\n",
       "    </tr>\n",
       "    <tr>\n",
       "      <th>6</th>\n",
       "      <td>Snort,</td>\n",
       "      <td>B-tool</td>\n",
       "    </tr>\n",
       "    <tr>\n",
       "      <th>7</th>\n",
       "      <td>Intrusion,Detection,</td>\n",
       "      <td>B-techniqueI-technique</td>\n",
       "    </tr>\n",
       "    <tr>\n",
       "      <th>8</th>\n",
       "      <td>,</td>\n",
       "      <td></td>\n",
       "    </tr>\n",
       "    <tr>\n",
       "      <th>9</th>\n",
       "      <td>Snort,</td>\n",
       "      <td>B-tool</td>\n",
       "    </tr>\n",
       "  </tbody>\n",
       "</table>\n",
       "</div>"
      ],
      "text/plain": [
       "               sentence                     tag\n",
       "0              Attacks,                B-attack\n",
       "1        public,domain,        B-systemI-system\n",
       "2                     ,                        \n",
       "3                  IDS,                  B-tool\n",
       "4  Intrusion,Detection,  B-techniqueI-technique\n",
       "5                     ,                        \n",
       "6                Snort,                  B-tool\n",
       "7  Intrusion,Detection,  B-techniqueI-technique\n",
       "8                     ,                        \n",
       "9                Snort,                  B-tool"
      ]
     },
     "execution_count": 64,
     "metadata": {},
     "output_type": "execute_result"
    }
   ],
   "source": [
    "dfc.head(10)"
   ]
  },
  {
   "cell_type": "code",
   "execution_count": 65,
   "id": "fd6e3dde",
   "metadata": {},
   "outputs": [],
   "source": [
    "dfc.to_csv('temp2.csv')"
   ]
  },
  {
   "cell_type": "code",
   "execution_count": 6,
   "id": "bc2de840",
   "metadata": {},
   "outputs": [],
   "source": [
    "dfc = pd.read_csv(path + '/temp2.csv')"
   ]
  },
  {
   "cell_type": "code",
   "execution_count": 73,
   "id": "93e96e46",
   "metadata": {},
   "outputs": [],
   "source": [
    "#dfc.dropna(subset=['tag'], inplace=True)"
   ]
  },
  {
   "cell_type": "code",
   "execution_count": 78,
   "id": "972fee69",
   "metadata": {},
   "outputs": [
    {
     "name": "stderr",
     "output_type": "stream",
     "text": [
      "<ipython-input-78-4e634ccb6785>:1: FutureWarning: The default value of regex will change from True to False in a future version.\n",
      "  dfc['tag'] = dfc['tag'].str.replace('I-?','')\n"
     ]
    }
   ],
   "source": [
    "dfc['tag'] = dfc['tag'].str.replace('','')"
   ]
  },
  {
   "cell_type": "code",
   "execution_count": 92,
   "id": "2efb439b",
   "metadata": {},
   "outputs": [],
   "source": [
    "dfc['tag'] = dfc['tag'].str.replace('I-attack',' ')"
   ]
  },
  {
   "cell_type": "code",
   "execution_count": 94,
   "id": "aa4c9801",
   "metadata": {},
   "outputs": [],
   "source": [
    "dfc['tag'] = dfc['tag'].str.replace('I-tool',' ')"
   ]
  },
  {
   "cell_type": "code",
   "execution_count": 97,
   "id": "cc189fb0",
   "metadata": {},
   "outputs": [],
   "source": [
    "dfc['tag'] = dfc['tag'].str.replace('I-system',' ')"
   ]
  },
  {
   "cell_type": "code",
   "execution_count": 99,
   "id": "d5f997d3",
   "metadata": {},
   "outputs": [],
   "source": [
    "dfc['tag'] = dfc['tag'].str.replace('I-feature',' ')\n",
    "dfc['tag'] = dfc['tag'].str.replace('I-function',' ')\n",
    "dfc['tag'] = dfc['tag'].str.replace('I-technique',' ')\n",
    "dfc['tag'] = dfc['tag'].str.replace('I-data',' ')\n",
    "dfc['tag'] = dfc['tag'].str.replace('I-user',' ')\n",
    "dfc['tag'] = dfc['tag'].str.replace('I-vulnerability',' ')\n",
    "dfc['tag'] = dfc['tag'].str.replace('I-app',' ')\n",
    "dfc['tag'] = dfc['tag'].str.replace('I-securityTeam',' ')\n",
    "dfc['tag'] = dfc['tag'].str.replace('I-attacker',' ')"
   ]
  },
  {
   "cell_type": "code",
   "execution_count": 87,
   "id": "e4d72618",
   "metadata": {},
   "outputs": [],
   "source": [
    "import re"
   ]
  },
  {
   "cell_type": "code",
   "execution_count": 101,
   "id": "ea06185e",
   "metadata": {},
   "outputs": [],
   "source": [
    "dfc['tag'] = dfc['tag'].str.replace('B-',' ')"
   ]
  },
  {
   "cell_type": "code",
   "execution_count": 124,
   "id": "d48093de",
   "metadata": {},
   "outputs": [],
   "source": [
    "dfc.to_csv('temp2.csv')"
   ]
  },
  {
   "cell_type": "code",
   "execution_count": 115,
   "id": "5101d2df",
   "metadata": {},
   "outputs": [],
   "source": [
    "dfc['entity']=list(zip(dfc.sentence, dfc.tag))"
   ]
  },
  {
   "cell_type": "code",
   "execution_count": 148,
   "id": "eb7b54da",
   "metadata": {},
   "outputs": [],
   "source": [
    "# create tuples\n",
    "entity_list = dfc['entity'].tolist()"
   ]
  },
  {
   "cell_type": "code",
   "execution_count": 159,
   "id": "d0855e2c",
   "metadata": {},
   "outputs": [],
   "source": [
    "#create sublists for triples\n",
    "from itertools import groupby\n",
    "key= entity_list.index(' ')\n",
    "\n",
    "res = [list(sub) for ele, sub in groupby(entity_list, key = bool) if ele]\n",
    "# temp_idx = entity_list.index(' ')\n",
    "#res = [entity_list[: temp_idx], entity_list[temp_idx + 1: ]]"
   ]
  },
  {
   "cell_type": "code",
   "execution_count": 42,
   "id": "040c94a3",
   "metadata": {},
   "outputs": [],
   "source": [
    "dfc= dfc.drop('relation', axis=1)"
   ]
  },
  {
   "cell_type": "code",
   "execution_count": null,
   "id": "a8cbb841",
   "metadata": {},
   "outputs": [],
   "source": [
    "dfc['tag']=dfc['tag'].fillna('blank')"
   ]
  },
  {
   "cell_type": "code",
   "execution_count": 12,
   "id": "bcd4dacb",
   "metadata": {},
   "outputs": [],
   "source": [
    "dfc['relation']=''"
   ]
  },
  {
   "cell_type": "code",
   "execution_count": 13,
   "id": "1d3f5959",
   "metadata": {},
   "outputs": [
    {
     "name": "stderr",
     "output_type": "stream",
     "text": [
      "<ipython-input-13-f5fbdb6c5fad>:4: SettingWithCopyWarning: \n",
      "A value is trying to be set on a copy of a slice from a DataFrame\n",
      "\n",
      "See the caveats in the documentation: https://pandas.pydata.org/pandas-docs/stable/user_guide/indexing.html#returning-a-view-versus-a-copy\n",
      "  dfc['relation'][r]=(schema[i][1])\n"
     ]
    }
   ],
   "source": [
    "for r in range(len(dfc)-1):\n",
    "    for i in range(len(schema)):\n",
    "        if dfc['tag'][r].strip()==schema[i][0] and dfc['tag'][r+1].strip()==schema[i][2]:\n",
    "            dfc['relation'][r]=(schema[i][1])\n",
    "            #print(r, schema[i][1])"
   ]
  },
  {
   "cell_type": "code",
   "execution_count": 16,
   "id": "bbbd3cf4",
   "metadata": {},
   "outputs": [
    {
     "data": {
      "text/plain": [
       "'attack'"
      ]
     },
     "execution_count": 16,
     "metadata": {},
     "output_type": "execute_result"
    }
   ],
   "source": [
    "dfc['tag'][0].strip()"
   ]
  },
  {
   "cell_type": "code",
   "execution_count": 18,
   "id": "48e0e33a",
   "metadata": {},
   "outputs": [
    {
     "data": {
      "text/plain": [
       "'system'"
      ]
     },
     "execution_count": 18,
     "metadata": {},
     "output_type": "execute_result"
    }
   ],
   "source": [
    "dfc['tag'][1].strip()"
   ]
  },
  {
   "cell_type": "code",
   "execution_count": 14,
   "id": "11c70b8c",
   "metadata": {},
   "outputs": [
    {
     "data": {
      "text/plain": [
       "'user'"
      ]
     },
     "execution_count": 14,
     "metadata": {},
     "output_type": "execute_result"
    }
   ],
   "source": [
    "schema[1][0]"
   ]
  },
  {
   "cell_type": "code",
   "execution_count": 15,
   "id": "62094075",
   "metadata": {},
   "outputs": [
    {
     "data": {
      "text/plain": [
       "'system'"
      ]
     },
     "execution_count": 15,
     "metadata": {},
     "output_type": "execute_result"
    }
   ],
   "source": [
    "schema[1][2]"
   ]
  },
  {
   "cell_type": "code",
   "execution_count": 14,
   "id": "a9fbdf88",
   "metadata": {},
   "outputs": [
    {
     "data": {
      "text/html": [
       "<div>\n",
       "<style scoped>\n",
       "    .dataframe tbody tr th:only-of-type {\n",
       "        vertical-align: middle;\n",
       "    }\n",
       "\n",
       "    .dataframe tbody tr th {\n",
       "        vertical-align: top;\n",
       "    }\n",
       "\n",
       "    .dataframe thead th {\n",
       "        text-align: right;\n",
       "    }\n",
       "</style>\n",
       "<table border=\"1\" class=\"dataframe\">\n",
       "  <thead>\n",
       "    <tr style=\"text-align: right;\">\n",
       "      <th></th>\n",
       "      <th>Unnamed: 0</th>\n",
       "      <th>Unnamed: 0.1</th>\n",
       "      <th>sentence</th>\n",
       "      <th>tag</th>\n",
       "      <th>entity</th>\n",
       "      <th>relation</th>\n",
       "    </tr>\n",
       "  </thead>\n",
       "  <tbody>\n",
       "    <tr>\n",
       "      <th>0</th>\n",
       "      <td>0</td>\n",
       "      <td>0</td>\n",
       "      <td>Attacks</td>\n",
       "      <td>attack</td>\n",
       "      <td>('Attacks ', ' attack')</td>\n",
       "      <td>can_harm</td>\n",
       "    </tr>\n",
       "    <tr>\n",
       "      <th>1</th>\n",
       "      <td>1</td>\n",
       "      <td>1</td>\n",
       "      <td>public domain</td>\n",
       "      <td>system</td>\n",
       "      <td>('public domain ', ' system ')</td>\n",
       "      <td></td>\n",
       "    </tr>\n",
       "    <tr>\n",
       "      <th>2</th>\n",
       "      <td>2</td>\n",
       "      <td>2</td>\n",
       "      <td></td>\n",
       "      <td>blank</td>\n",
       "      <td></td>\n",
       "      <td></td>\n",
       "    </tr>\n",
       "    <tr>\n",
       "      <th>3</th>\n",
       "      <td>3</td>\n",
       "      <td>3</td>\n",
       "      <td>IDS</td>\n",
       "      <td>tool</td>\n",
       "      <td>('IDS ', ' tool')</td>\n",
       "      <td>uses</td>\n",
       "    </tr>\n",
       "    <tr>\n",
       "      <th>4</th>\n",
       "      <td>4</td>\n",
       "      <td>4</td>\n",
       "      <td>Intrusion Detection</td>\n",
       "      <td>technique</td>\n",
       "      <td>('Intrusion Detection ', ' technique ')</td>\n",
       "      <td></td>\n",
       "    </tr>\n",
       "  </tbody>\n",
       "</table>\n",
       "</div>"
      ],
      "text/plain": [
       "   Unnamed: 0  Unnamed: 0.1              sentence          tag  \\\n",
       "0           0             0              Attacks        attack   \n",
       "1           1             1        public domain       system    \n",
       "2           2             2                              blank   \n",
       "3           3             3                  IDS          tool   \n",
       "4           4             4  Intrusion Detection    technique    \n",
       "\n",
       "                                    entity  relation  \n",
       "0                  ('Attacks ', ' attack')  can_harm  \n",
       "1           ('public domain ', ' system ')            \n",
       "2                                                     \n",
       "3                        ('IDS ', ' tool')      uses  \n",
       "4  ('Intrusion Detection ', ' technique ')            "
      ]
     },
     "execution_count": 14,
     "metadata": {},
     "output_type": "execute_result"
    }
   ],
   "source": [
    "dfc.head(5)"
   ]
  },
  {
   "cell_type": "code",
   "execution_count": 15,
   "id": "4f164a1a",
   "metadata": {},
   "outputs": [],
   "source": [
    "dfc.to_csv('triple_temp.csv')"
   ]
  },
  {
   "cell_type": "code",
   "execution_count": 16,
   "id": "45533dfc",
   "metadata": {},
   "outputs": [],
   "source": [
    "triple = []\n",
    "for i in range(len(dfc)-1):\n",
    "    if (dfc['relation'][i]=='') is False:\n",
    "        triple.append((dfc['sentence'][i].strip(),dfc['relation'][i], dfc['sentence'][i+1].strip() ) ) \n",
    "    else:\n",
    "        continue\n",
    "    #print(triple)"
   ]
  },
  {
   "cell_type": "code",
   "execution_count": 17,
   "id": "3597f039",
   "metadata": {},
   "outputs": [],
   "source": [
    "dtriple = pd.DataFrame(triple)"
   ]
  },
  {
   "cell_type": "code",
   "execution_count": 18,
   "id": "13c24432",
   "metadata": {},
   "outputs": [],
   "source": [
    "dtriple.to_csv('triples.csv')"
   ]
  },
  {
   "cell_type": "code",
   "execution_count": null,
   "id": "e6aee37a",
   "metadata": {},
   "outputs": [],
   "source": []
  }
 ],
 "metadata": {
  "kernelspec": {
   "display_name": "Python 3",
   "language": "python",
   "name": "python3"
  },
  "language_info": {
   "codemirror_mode": {
    "name": "ipython",
    "version": 3
   },
   "file_extension": ".py",
   "mimetype": "text/x-python",
   "name": "python",
   "nbconvert_exporter": "python",
   "pygments_lexer": "ipython3",
   "version": "3.8.10"
  }
 },
 "nbformat": 4,
 "nbformat_minor": 5
}
